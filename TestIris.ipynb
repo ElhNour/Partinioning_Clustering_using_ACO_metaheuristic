{
 "cells": [
  {
   "cell_type": "code",
   "execution_count": 1,
   "metadata": {},
   "outputs": [],
   "source": [
    "import pandas as pd\n",
    "import numpy as np\n",
    "import matplotlib.pyplot as plt\n",
    "%matplotlib inline"
   ]
  },
  {
   "cell_type": "code",
   "execution_count": 2,
   "metadata": {},
   "outputs": [],
   "source": [
    "from pso import ParticleSwarmOptimizedClustering\n",
    "from particle import quantization_error, calc_sse\n",
    "from utils import normalize\n",
    "from kmeans import KMeans\n",
    "from sklearn.metrics import silhouette_score"
   ]
  },
  {
   "cell_type": "code",
   "execution_count": 3,
   "metadata": {},
   "outputs": [
    {
     "data": {
      "text/html": [
       "<div>\n",
       "<style scoped>\n",
       "    .dataframe tbody tr th:only-of-type {\n",
       "        vertical-align: middle;\n",
       "    }\n",
       "\n",
       "    .dataframe tbody tr th {\n",
       "        vertical-align: top;\n",
       "    }\n",
       "\n",
       "    .dataframe thead th {\n",
       "        text-align: right;\n",
       "    }\n",
       "</style>\n",
       "<table border=\"1\" class=\"dataframe\">\n",
       "  <thead>\n",
       "    <tr style=\"text-align: right;\">\n",
       "      <th></th>\n",
       "      <th>0</th>\n",
       "      <th>1</th>\n",
       "      <th>2</th>\n",
       "      <th>3</th>\n",
       "      <th>4</th>\n",
       "    </tr>\n",
       "  </thead>\n",
       "  <tbody>\n",
       "    <tr>\n",
       "      <th>0</th>\n",
       "      <td>5.1</td>\n",
       "      <td>3.5</td>\n",
       "      <td>1.4</td>\n",
       "      <td>0.2</td>\n",
       "      <td>Iris-setosa</td>\n",
       "    </tr>\n",
       "    <tr>\n",
       "      <th>1</th>\n",
       "      <td>4.9</td>\n",
       "      <td>3.0</td>\n",
       "      <td>1.4</td>\n",
       "      <td>0.2</td>\n",
       "      <td>Iris-setosa</td>\n",
       "    </tr>\n",
       "    <tr>\n",
       "      <th>2</th>\n",
       "      <td>4.7</td>\n",
       "      <td>3.2</td>\n",
       "      <td>1.3</td>\n",
       "      <td>0.2</td>\n",
       "      <td>Iris-setosa</td>\n",
       "    </tr>\n",
       "    <tr>\n",
       "      <th>3</th>\n",
       "      <td>4.6</td>\n",
       "      <td>3.1</td>\n",
       "      <td>1.5</td>\n",
       "      <td>0.2</td>\n",
       "      <td>Iris-setosa</td>\n",
       "    </tr>\n",
       "    <tr>\n",
       "      <th>4</th>\n",
       "      <td>5.0</td>\n",
       "      <td>3.6</td>\n",
       "      <td>1.4</td>\n",
       "      <td>0.2</td>\n",
       "      <td>Iris-setosa</td>\n",
       "    </tr>\n",
       "  </tbody>\n",
       "</table>\n",
       "</div>"
      ],
      "text/plain": [
       "     0    1    2    3            4\n",
       "0  5.1  3.5  1.4  0.2  Iris-setosa\n",
       "1  4.9  3.0  1.4  0.2  Iris-setosa\n",
       "2  4.7  3.2  1.3  0.2  Iris-setosa\n",
       "3  4.6  3.1  1.5  0.2  Iris-setosa\n",
       "4  5.0  3.6  1.4  0.2  Iris-setosa"
      ]
     },
     "execution_count": 3,
     "metadata": {},
     "output_type": "execute_result"
    }
   ],
   "source": [
    "data = pd.read_csv('./data/iris.data', sep=',', header=None)\r\n",
    "data.head()"
   ]
  },
  {
   "cell_type": "code",
   "execution_count": 4,
   "metadata": {},
   "outputs": [],
   "source": [
    "x = data.drop([4], axis=1)\r\n",
    "x = x.values\r\n",
    "x = normalize(x)"
   ]
  },
  {
   "cell_type": "markdown",
   "metadata": {},
   "source": [
    "# K-Means"
   ]
  },
  {
   "cell_type": "code",
   "execution_count": 5,
   "metadata": {},
   "outputs": [],
   "source": [
    "kmeans = KMeans(n_cluster=3, init_pp=False, seed=2018)\n",
    "kmeans.fit(x)"
   ]
  },
  {
   "cell_type": "code",
   "execution_count": 8,
   "metadata": {},
   "outputs": [
    {
     "name": "stdout",
     "output_type": "stream",
     "text": [
      "Silhouette: 0.5043188549150883\n",
      "SSE: 6.998114004826762\n",
      "Quantization: 0.19524413664147766\n"
     ]
    }
   ],
   "source": [
    "predicted_kmeans = kmeans.predict(x)\n",
    "print('Silhouette:', silhouette_score(x, predicted_kmeans))\n",
    "print('SSE:', kmeans.SSE)\n",
    "print('Quantization:', quantization_error(centroids=kmeans.centroid, data=x, labels=predicted_kmeans))"
   ]
  },
  {
   "cell_type": "code",
   "execution_count": 9,
   "metadata": {},
   "outputs": [
    {
     "name": "stdout",
     "output_type": "stream",
     "text": [
      "Silhouette: 0.5043188549150883\n",
      "SSE: 10.90827498962253\n",
      "Quantization: 0.2049806792871817\n"
     ]
    }
   ],
   "source": [
    "kmeans2 = KMeans(n_cluster=3, init_pp=True, seed=2018)\n",
    "kmeans2.fit(x)\n",
    "predicted_kmeans2 = kmeans2.predict(x)\n",
    "print('Silhouette:', silhouette_score(x, predicted_kmeans))\n",
    "print('SSE:', kmeans2.SSE)\n",
    "print('Quantization:', quantization_error(centroids=kmeans2.centroid, data=x, labels=predicted_kmeans2))"
   ]
  },
  {
   "cell_type": "markdown",
   "metadata": {},
   "source": [
    "# PSO"
   ]
  },
  {
   "cell_type": "code",
   "execution_count": 10,
   "metadata": {},
   "outputs": [
    {
     "name": "stderr",
     "output_type": "stream",
     "text": [
      "d:\\study\\2SIQ3\\OPTIM\\Partitioning_Clustering_using_ACO_metaheuristic\\particle.py:14: RuntimeWarning: invalid value encountered in double_scalars\n",
      "  dist /= len(idx)\n"
     ]
    }
   ],
   "source": [
    "pso = ParticleSwarmOptimizedClustering(\n",
    "        n_cluster=3, n_particles=10, data=x, hybrid=True, max_iter=2000, print_debug=50)"
   ]
  },
  {
   "cell_type": "code",
   "execution_count": 11,
   "metadata": {},
   "outputs": [
    {
     "name": "stdout",
     "output_type": "stream",
     "text": [
      "Initial global best score 0.19524413664147766\n",
      "Iteration 0001/2000 current gbest score 0.195244136641477661\n",
      "Iteration 0051/2000 current gbest score 0.194827246862884662\n",
      "Iteration 0101/2000 current gbest score 0.194698369971672669\n",
      "Iteration 0151/2000 current gbest score 0.194552969232267142\n",
      "Iteration 0201/2000 current gbest score 0.194541944216088086\n",
      "Iteration 0251/2000 current gbest score 0.194541628213423995\n",
      "Iteration 0301/2000 current gbest score 0.194541620158153933\n",
      "Iteration 0351/2000 current gbest score 0.194541620089732303\n",
      "Iteration 0401/2000 current gbest score 0.194541620089447614\n",
      "Iteration 0451/2000 current gbest score 0.194541620089446560\n",
      "Iteration 0501/2000 current gbest score 0.194541620089446560\n",
      "Iteration 0551/2000 current gbest score 0.194541620089446560\n",
      "Iteration 0601/2000 current gbest score 0.194541620089446560\n",
      "Iteration 0651/2000 current gbest score 0.194541620089446560\n",
      "Iteration 0701/2000 current gbest score 0.194541620089446560\n",
      "Iteration 0751/2000 current gbest score 0.194541620089446560\n",
      "Iteration 0801/2000 current gbest score 0.194541620089446560\n",
      "Iteration 0851/2000 current gbest score 0.194541620089446560\n",
      "Iteration 0901/2000 current gbest score 0.194541620089446560\n",
      "Iteration 0951/2000 current gbest score 0.194541620089446560\n",
      "Iteration 1001/2000 current gbest score 0.194541620089446560\n",
      "Iteration 1051/2000 current gbest score 0.194541620089446560\n",
      "Iteration 1101/2000 current gbest score 0.194541620089446560\n",
      "Iteration 1151/2000 current gbest score 0.194541620089446560\n",
      "Iteration 1201/2000 current gbest score 0.194541620089446560\n",
      "Iteration 1251/2000 current gbest score 0.194541620089446560\n",
      "Iteration 1301/2000 current gbest score 0.194541620089446560\n",
      "Iteration 1351/2000 current gbest score 0.194541620089446560\n",
      "Iteration 1401/2000 current gbest score 0.194541620089446560\n",
      "Iteration 1451/2000 current gbest score 0.194541620089446560\n",
      "Iteration 1501/2000 current gbest score 0.194541620089446560\n",
      "Iteration 1551/2000 current gbest score 0.194541620089446560\n",
      "Iteration 1601/2000 current gbest score 0.194541620089446560\n",
      "Iteration 1651/2000 current gbest score 0.194541620089446560\n",
      "Iteration 1701/2000 current gbest score 0.194541620089446560\n",
      "Iteration 1751/2000 current gbest score 0.194541620089446560\n",
      "Iteration 1801/2000 current gbest score 0.194541620089446560\n",
      "Iteration 1851/2000 current gbest score 0.194541620089446560\n",
      "Iteration 1901/2000 current gbest score 0.194541620089446560\n",
      "Iteration 1951/2000 current gbest score 0.194541620089446560\n",
      "Finish with gbest score 0.194541620089446560\n"
     ]
    }
   ],
   "source": [
    "hist = pso.run()"
   ]
  },
  {
   "cell_type": "code",
   "execution_count": 12,
   "metadata": {},
   "outputs": [],
   "source": [
    "pso_kmeans = KMeans(n_cluster=3, init_pp=False, seed=2018)"
   ]
  },
  {
   "cell_type": "code",
   "execution_count": 13,
   "metadata": {},
   "outputs": [
    {
     "data": {
      "text/plain": [
       "array([[0.19851845, 0.58080113, 0.08115941, 0.05887771],\n",
       "       [0.68747887, 0.44691558, 0.78758223, 0.82459663],\n",
       "       [0.44400504, 0.31794577, 0.57825324, 0.5471383 ]])"
      ]
     },
     "execution_count": 13,
     "metadata": {},
     "output_type": "execute_result"
    }
   ],
   "source": [
    "pso_kmeans.centroid = pso.gbest_centroids.copy()\n",
    "pso_kmeans.centroid"
   ]
  },
  {
   "cell_type": "code",
   "execution_count": 14,
   "metadata": {},
   "outputs": [
    {
     "name": "stdout",
     "output_type": "stream",
     "text": [
      "Silhouette: 0.5043188549150883\n",
      "SSE: 7.031103523946592\n",
      "Quantization: 0.19454162008944656\n"
     ]
    }
   ],
   "source": [
    "predicted_pso = pso_kmeans.predict(x)\n",
    "print('Silhouette:', silhouette_score(x, predicted_pso))\n",
    "print('SSE:', calc_sse(centroids=pso.gbest_centroids, data=x, labels=predicted_pso))\n",
    "print('Quantization:', pso.gbest_score)"
   ]
  },
  {
   "cell_type": "markdown",
   "metadata": {},
   "source": [
    "# Repeated Test"
   ]
  },
  {
   "cell_type": "markdown",
   "metadata": {},
   "source": [
    "### K-Means++"
   ]
  },
  {
   "cell_type": "code",
   "execution_count": 15,
   "metadata": {},
   "outputs": [],
   "source": [
    "kmeanspp = {\r\n",
    "    'silhouette': [],\r\n",
    "    'sse' : [],\r\n",
    "    'quantization' : [],\r\n",
    "}\r\n",
    "for _ in range(20):\r\n",
    "    kmean_rep = KMeans(n_cluster=3, init_pp=True)\r\n",
    "    kmean_rep.fit(x)\r\n",
    "    predicted_kmean_rep = kmean_rep.predict(x)\r\n",
    "    silhouette = silhouette_score(x, predicted_kmean_rep)\r\n",
    "    sse = kmean_rep.SSE\r\n",
    "    quantization = quantization_error(centroids=kmean_rep.centroid, data=x, labels=predicted_kmean_rep)\r\n",
    "    kmeanspp['silhouette'].append(silhouette)\r\n",
    "    kmeanspp['sse'].append(sse)\r\n",
    "    kmeanspp['quantization'].append(quantization)"
   ]
  },
  {
   "cell_type": "markdown",
   "metadata": {},
   "source": [
    "### PSO "
   ]
  },
  {
   "cell_type": "code",
   "execution_count": 16,
   "metadata": {},
   "outputs": [
    {
     "name": "stdout",
     "output_type": "stream",
     "text": [
      "Initial global best score 0.2086473926239856\n",
      "Iteration 0001/2000 current gbest score 0.208647392623985600\n",
      "Finish with gbest score 0.197997170067414574\n",
      "Initial global best score 0.20365216341317946\n",
      "Iteration 0001/2000 current gbest score 0.203652163413179460\n"
     ]
    },
    {
     "name": "stderr",
     "output_type": "stream",
     "text": [
      "d:\\study\\2SIQ3\\OPTIM\\particle-swarm-optimized-clustering\\particle.py:14: RuntimeWarning: invalid value encountered in double_scalars\n",
      "  dist /= len(idx)\n"
     ]
    },
    {
     "name": "stdout",
     "output_type": "stream",
     "text": [
      "Finish with gbest score 0.181392139064168095\n",
      "Initial global best score 0.21849147498327967\n",
      "Iteration 0001/2000 current gbest score 0.218491474983279671\n",
      "Finish with gbest score 0.200016981083945694\n",
      "Initial global best score 0.23406512076938202\n",
      "Iteration 0001/2000 current gbest score 0.222980998282051840\n",
      "Finish with gbest score 0.202727582369571113\n",
      "Initial global best score 0.22415677728120617\n",
      "Iteration 0001/2000 current gbest score 0.224156777281206171\n"
     ]
    },
    {
     "name": "stderr",
     "output_type": "stream",
     "text": [
      "d:\\study\\2SIQ3\\OPTIM\\particle-swarm-optimized-clustering\\particle.py:14: RuntimeWarning: invalid value encountered in double_scalars\n",
      "  dist /= len(idx)\n"
     ]
    },
    {
     "name": "stdout",
     "output_type": "stream",
     "text": [
      "Finish with gbest score 0.188510140638140200\n",
      "Initial global best score 0.2291942871105539\n",
      "Iteration 0001/2000 current gbest score 0.218498635415427994\n"
     ]
    },
    {
     "name": "stderr",
     "output_type": "stream",
     "text": [
      "d:\\study\\2SIQ3\\OPTIM\\particle-swarm-optimized-clustering\\particle.py:14: RuntimeWarning: invalid value encountered in double_scalars\n",
      "  dist /= len(idx)\n"
     ]
    },
    {
     "name": "stdout",
     "output_type": "stream",
     "text": [
      "Finish with gbest score 0.197200182522942136\n",
      "Initial global best score 0.20357402359639934\n",
      "Iteration 0001/2000 current gbest score 0.203574023596399339\n"
     ]
    },
    {
     "name": "stderr",
     "output_type": "stream",
     "text": [
      "d:\\study\\2SIQ3\\OPTIM\\particle-swarm-optimized-clustering\\particle.py:14: RuntimeWarning: invalid value encountered in double_scalars\n",
      "  dist /= len(idx)\n"
     ]
    },
    {
     "name": "stdout",
     "output_type": "stream",
     "text": [
      "Finish with gbest score 0.172551183463512725\n",
      "Initial global best score 0.20116819256884724\n",
      "Iteration 0001/2000 current gbest score 0.201168192568847243\n"
     ]
    },
    {
     "name": "stderr",
     "output_type": "stream",
     "text": [
      "d:\\study\\2SIQ3\\OPTIM\\particle-swarm-optimized-clustering\\particle.py:14: RuntimeWarning: invalid value encountered in double_scalars\n",
      "  dist /= len(idx)\n"
     ]
    },
    {
     "name": "stdout",
     "output_type": "stream",
     "text": [
      "Finish with gbest score 0.173592377210918386\n",
      "Initial global best score 0.2261045835947644\n",
      "Iteration 0001/2000 current gbest score 0.226104583594764402\n"
     ]
    },
    {
     "name": "stderr",
     "output_type": "stream",
     "text": [
      "d:\\study\\2SIQ3\\OPTIM\\particle-swarm-optimized-clustering\\particle.py:14: RuntimeWarning: invalid value encountered in double_scalars\n",
      "  dist /= len(idx)\n"
     ]
    },
    {
     "name": "stdout",
     "output_type": "stream",
     "text": [
      "Finish with gbest score 0.211636314759352295\n",
      "Initial global best score 0.2328809764767863\n",
      "Iteration 0001/2000 current gbest score 0.232880976476786294\n",
      "Finish with gbest score 0.212799303636352549\n",
      "Initial global best score 0.1959299208563782\n",
      "Iteration 0001/2000 current gbest score 0.195929920856378198\n"
     ]
    },
    {
     "name": "stderr",
     "output_type": "stream",
     "text": [
      "d:\\study\\2SIQ3\\OPTIM\\particle-swarm-optimized-clustering\\particle.py:14: RuntimeWarning: invalid value encountered in double_scalars\n",
      "  dist /= len(idx)\n"
     ]
    },
    {
     "name": "stdout",
     "output_type": "stream",
     "text": [
      "Finish with gbest score 0.180199653143560456\n",
      "Initial global best score 0.19320149404272788\n",
      "Iteration 0001/2000 current gbest score 0.193201494042727878\n"
     ]
    },
    {
     "name": "stderr",
     "output_type": "stream",
     "text": [
      "d:\\study\\2SIQ3\\OPTIM\\particle-swarm-optimized-clustering\\particle.py:14: RuntimeWarning: invalid value encountered in double_scalars\n",
      "  dist /= len(idx)\n"
     ]
    },
    {
     "name": "stdout",
     "output_type": "stream",
     "text": [
      "Finish with gbest score 0.176732134149863551\n",
      "Initial global best score 0.2456264461564982\n",
      "Iteration 0001/2000 current gbest score 0.245626446156498202\n"
     ]
    },
    {
     "name": "stderr",
     "output_type": "stream",
     "text": [
      "d:\\study\\2SIQ3\\OPTIM\\particle-swarm-optimized-clustering\\particle.py:14: RuntimeWarning: invalid value encountered in double_scalars\n",
      "  dist /= len(idx)\n"
     ]
    },
    {
     "name": "stdout",
     "output_type": "stream",
     "text": [
      "Finish with gbest score 0.193695096469532674\n",
      "Initial global best score 0.24737687284139717\n",
      "Iteration 0001/2000 current gbest score 0.247376872841397172\n"
     ]
    },
    {
     "name": "stderr",
     "output_type": "stream",
     "text": [
      "d:\\study\\2SIQ3\\OPTIM\\particle-swarm-optimized-clustering\\particle.py:14: RuntimeWarning: invalid value encountered in double_scalars\n",
      "  dist /= len(idx)\n"
     ]
    },
    {
     "name": "stdout",
     "output_type": "stream",
     "text": [
      "Finish with gbest score 0.184361830670260934\n",
      "Initial global best score 0.2195841023352716\n",
      "Iteration 0001/2000 current gbest score 0.219584102335271591\n",
      "Finish with gbest score 0.201402518699666994\n",
      "Initial global best score 0.205873487875695\n",
      "Iteration 0001/2000 current gbest score 0.205873487875695010\n"
     ]
    },
    {
     "name": "stderr",
     "output_type": "stream",
     "text": [
      "d:\\study\\2SIQ3\\OPTIM\\particle-swarm-optimized-clustering\\particle.py:14: RuntimeWarning: invalid value encountered in double_scalars\n",
      "  dist /= len(idx)\n"
     ]
    },
    {
     "name": "stdout",
     "output_type": "stream",
     "text": [
      "Finish with gbest score 0.179009892370034174\n",
      "Initial global best score 0.2099022285001411\n",
      "Iteration 0001/2000 current gbest score 0.209902228500141091\n"
     ]
    },
    {
     "name": "stderr",
     "output_type": "stream",
     "text": [
      "d:\\study\\2SIQ3\\OPTIM\\particle-swarm-optimized-clustering\\particle.py:14: RuntimeWarning: invalid value encountered in double_scalars\n",
      "  dist /= len(idx)\n"
     ]
    },
    {
     "name": "stdout",
     "output_type": "stream",
     "text": [
      "Finish with gbest score 0.190453122352908788\n",
      "Initial global best score 0.2280105497756684\n",
      "Iteration 0001/2000 current gbest score 0.228010549775668397\n"
     ]
    },
    {
     "name": "stderr",
     "output_type": "stream",
     "text": [
      "d:\\study\\2SIQ3\\OPTIM\\particle-swarm-optimized-clustering\\particle.py:14: RuntimeWarning: invalid value encountered in double_scalars\n",
      "  dist /= len(idx)\n"
     ]
    },
    {
     "name": "stdout",
     "output_type": "stream",
     "text": [
      "Finish with gbest score 0.190514109685863159\n",
      "Initial global best score 0.21605080349961145\n",
      "Iteration 0001/2000 current gbest score 0.216050803499611449\n"
     ]
    },
    {
     "name": "stderr",
     "output_type": "stream",
     "text": [
      "d:\\study\\2SIQ3\\OPTIM\\particle-swarm-optimized-clustering\\particle.py:14: RuntimeWarning: invalid value encountered in double_scalars\n",
      "  dist /= len(idx)\n"
     ]
    },
    {
     "name": "stdout",
     "output_type": "stream",
     "text": [
      "Finish with gbest score 0.176692734553735326\n",
      "Initial global best score 0.20858829674791876\n",
      "Iteration 0001/2000 current gbest score 0.208588296747918761\n"
     ]
    },
    {
     "name": "stderr",
     "output_type": "stream",
     "text": [
      "d:\\study\\2SIQ3\\OPTIM\\particle-swarm-optimized-clustering\\particle.py:14: RuntimeWarning: invalid value encountered in double_scalars\n",
      "  dist /= len(idx)\n"
     ]
    },
    {
     "name": "stdout",
     "output_type": "stream",
     "text": [
      "Finish with gbest score 0.189696407672581474\n",
      "Wall time: 2min 1s\n"
     ]
    }
   ],
   "source": [
    "%%time\r\n",
    "pso_plain = {\r\n",
    "    'silhouette': [],\r\n",
    "    'sse' : [],\r\n",
    "    'quantization' : [],\r\n",
    "}\r\n",
    "for _ in range(20):\r\n",
    "    pso_rep = ParticleSwarmOptimizedClustering(\r\n",
    "        n_cluster=3, n_particles=10, data=x, hybrid=False, max_iter=2000, print_debug=2000)\r\n",
    "    pso_rep.run()\r\n",
    "    pso_kmeans = KMeans(n_cluster=3, init_pp=False, seed=2018)\r\n",
    "    pso_kmeans.centroid = pso_rep.gbest_centroids.copy()\r\n",
    "    predicted_pso_rep = pso_kmeans.predict(x)\r\n",
    "    \r\n",
    "    silhouette = silhouette_score(x, predicted_pso_rep)\r\n",
    "    sse = calc_sse(centroids=pso_rep.gbest_centroids, data=x, labels=predicted_pso_rep)\r\n",
    "    quantization = pso_rep.gbest_score\r\n",
    "    pso_plain['silhouette'].append(silhouette)\r\n",
    "    pso_plain['sse'].append(sse)\r\n",
    "    pso_plain['quantization'].append(quantization)"
   ]
  },
  {
   "cell_type": "markdown",
   "metadata": {},
   "source": [
    "### PSO Hybrid"
   ]
  },
  {
   "cell_type": "code",
   "execution_count": 17,
   "metadata": {},
   "outputs": [
    {
     "name": "stdout",
     "output_type": "stream",
     "text": [
      "Initial global best score 0.19618667657047784\n",
      "Iteration 0001/2000 current gbest score 0.196186676570477836\n",
      "Finish with gbest score 0.192768132383846019\n",
      "Initial global best score 0.19618667657047784\n",
      "Iteration 0001/2000 current gbest score 0.196186676570477836\n"
     ]
    },
    {
     "name": "stderr",
     "output_type": "stream",
     "text": [
      "d:\\study\\2SIQ3\\OPTIM\\particle-swarm-optimized-clustering\\particle.py:14: RuntimeWarning: invalid value encountered in double_scalars\n",
      "  dist /= len(idx)\n"
     ]
    },
    {
     "name": "stdout",
     "output_type": "stream",
     "text": [
      "Finish with gbest score 0.193396590192720597\n",
      "Initial global best score 0.19524413664147766\n",
      "Iteration 0001/2000 current gbest score 0.195244136641477661\n",
      "Finish with gbest score 0.194619252890615879\n",
      "Initial global best score 0.19524413664147766\n",
      "Iteration 0001/2000 current gbest score 0.195244136641477661\n"
     ]
    },
    {
     "name": "stderr",
     "output_type": "stream",
     "text": [
      "d:\\study\\2SIQ3\\OPTIM\\particle-swarm-optimized-clustering\\particle.py:14: RuntimeWarning: invalid value encountered in double_scalars\n",
      "  dist /= len(idx)\n"
     ]
    },
    {
     "name": "stdout",
     "output_type": "stream",
     "text": [
      "Finish with gbest score 0.194780035122247258\n",
      "Initial global best score 0.2049806792871817\n",
      "Iteration 0001/2000 current gbest score 0.204980679287181694\n"
     ]
    },
    {
     "name": "stderr",
     "output_type": "stream",
     "text": [
      "d:\\study\\2SIQ3\\OPTIM\\particle-swarm-optimized-clustering\\particle.py:14: RuntimeWarning: invalid value encountered in double_scalars\n",
      "  dist /= len(idx)\n"
     ]
    },
    {
     "name": "stdout",
     "output_type": "stream",
     "text": [
      "Finish with gbest score 0.171939411148728821\n",
      "Initial global best score 0.19618667657047784\n",
      "Iteration 0001/2000 current gbest score 0.196186676570477836\n",
      "Finish with gbest score 0.192432463921336644\n",
      "Initial global best score 0.19524413664147766\n",
      "Iteration 0001/2000 current gbest score 0.195244136641477661\n",
      "Finish with gbest score 0.194777353342043297\n",
      "Initial global best score 0.19618667657047784\n",
      "Iteration 0001/2000 current gbest score 0.196186676570477836\n",
      "Finish with gbest score 0.193432307356696448\n",
      "Initial global best score 0.19524413664147766\n",
      "Iteration 0001/2000 current gbest score 0.195244136641477661\n"
     ]
    },
    {
     "name": "stderr",
     "output_type": "stream",
     "text": [
      "d:\\study\\2SIQ3\\OPTIM\\particle-swarm-optimized-clustering\\particle.py:14: RuntimeWarning: invalid value encountered in double_scalars\n",
      "  dist /= len(idx)\n"
     ]
    },
    {
     "name": "stdout",
     "output_type": "stream",
     "text": [
      "Finish with gbest score 0.194520649159762998\n",
      "Initial global best score 0.19056365811169776\n",
      "Iteration 0001/2000 current gbest score 0.190563658111697759\n",
      "Finish with gbest score 0.189041654924837377\n",
      "Initial global best score 0.19618667657047784\n",
      "Iteration 0001/2000 current gbest score 0.196186676570477836\n",
      "Finish with gbest score 0.192872051429266417\n",
      "Initial global best score 0.19618667657047784\n",
      "Iteration 0001/2000 current gbest score 0.196186676570477836\n"
     ]
    },
    {
     "name": "stderr",
     "output_type": "stream",
     "text": [
      "d:\\study\\2SIQ3\\OPTIM\\particle-swarm-optimized-clustering\\particle.py:14: RuntimeWarning: invalid value encountered in double_scalars\n",
      "  dist /= len(idx)\n"
     ]
    },
    {
     "name": "stdout",
     "output_type": "stream",
     "text": [
      "Finish with gbest score 0.194211595720774399\n",
      "Initial global best score 0.2049806792871817\n",
      "Iteration 0001/2000 current gbest score 0.204980679287181694\n"
     ]
    },
    {
     "name": "stderr",
     "output_type": "stream",
     "text": [
      "d:\\study\\2SIQ3\\OPTIM\\particle-swarm-optimized-clustering\\particle.py:14: RuntimeWarning: invalid value encountered in double_scalars\n",
      "  dist /= len(idx)\n"
     ]
    },
    {
     "name": "stdout",
     "output_type": "stream",
     "text": [
      "Finish with gbest score 0.175754356733512279\n",
      "Initial global best score 0.19524413664147766\n",
      "Iteration 0001/2000 current gbest score 0.195244136641477661\n"
     ]
    },
    {
     "name": "stderr",
     "output_type": "stream",
     "text": [
      "d:\\study\\2SIQ3\\OPTIM\\particle-swarm-optimized-clustering\\particle.py:14: RuntimeWarning: invalid value encountered in double_scalars\n",
      "  dist /= len(idx)\n"
     ]
    },
    {
     "name": "stdout",
     "output_type": "stream",
     "text": [
      "Finish with gbest score 0.194655731274969351\n",
      "Initial global best score 0.2049806792871817\n",
      "Iteration 0001/2000 current gbest score 0.204980679287181694\n",
      "Finish with gbest score 0.173010101956820539\n",
      "Initial global best score 0.19618667657047784\n",
      "Iteration 0001/2000 current gbest score 0.196186676570477836\n",
      "Finish with gbest score 0.195488426214421057\n",
      "Initial global best score 0.19618667657047784\n",
      "Iteration 0001/2000 current gbest score 0.196186676570477836\n"
     ]
    },
    {
     "name": "stderr",
     "output_type": "stream",
     "text": [
      "d:\\study\\2SIQ3\\OPTIM\\particle-swarm-optimized-clustering\\particle.py:14: RuntimeWarning: invalid value encountered in double_scalars\n",
      "  dist /= len(idx)\n"
     ]
    },
    {
     "name": "stdout",
     "output_type": "stream",
     "text": [
      "Finish with gbest score 0.193371444916501600\n",
      "Initial global best score 0.19524413664147766\n",
      "Iteration 0001/2000 current gbest score 0.195244136641477661\n",
      "Finish with gbest score 0.194717670617997690\n",
      "Initial global best score 0.19618667657047784\n",
      "Iteration 0001/2000 current gbest score 0.196186676570477836\n",
      "Finish with gbest score 0.192892407499808155\n",
      "Initial global best score 0.19524413664147766\n",
      "Iteration 0001/2000 current gbest score 0.195244136641477661\n",
      "Finish with gbest score 0.194619453232529938\n",
      "Wall time: 1min 46s\n"
     ]
    }
   ],
   "source": [
    "%%time\r\n",
    "pso_hybrid = {\r\n",
    "    'silhouette': [],\r\n",
    "    'sse' : [],\r\n",
    "    'quantization' : [],\r\n",
    "}\r\n",
    "for _ in range(20):\r\n",
    "    pso_rep = ParticleSwarmOptimizedClustering(\r\n",
    "        n_cluster=3, n_particles=10, data=x, hybrid=True, max_iter=2000, print_debug=2000)\r\n",
    "    pso_rep.run()\r\n",
    "    pso_kmeans = KMeans(n_cluster=3, init_pp=False, seed=2018)\r\n",
    "    pso_kmeans.centroid = pso_rep.gbest_centroids.copy()\r\n",
    "    predicted_pso_rep = pso_kmeans.predict(x)\r\n",
    "    \r\n",
    "    silhouette = silhouette_score(x, predicted_pso_rep)\r\n",
    "    sse = calc_sse(centroids=pso_rep.gbest_centroids, data=x, labels=predicted_pso_rep)\r\n",
    "    quantization = pso_rep.gbest_score\r\n",
    "    pso_hybrid['silhouette'].append(silhouette)\r\n",
    "    pso_hybrid['sse'].append(sse)\r\n",
    "    pso_hybrid['quantization'].append(quantization)"
   ]
  },
  {
   "cell_type": "markdown",
   "metadata": {},
   "source": [
    "# Comparison"
   ]
  },
  {
   "cell_type": "code",
   "execution_count": 18,
   "metadata": {},
   "outputs": [],
   "source": [
    "benchmark = {\n",
    "    'method' : ['K-Means++', 'PSO', 'PSO Hybrid'],\n",
    "    'sse_mean' : [\n",
    "        np.around(np.mean(kmeanspp['sse']), decimals=10),\n",
    "        np.around(np.mean(pso_plain['sse']), decimals=10),\n",
    "        np.around(np.mean(pso_hybrid['sse']), decimals=10),\n",
    "    ],\n",
    "    'sse_stdev' : [\n",
    "        np.around(np.std(kmeanspp['sse']), decimals=10),\n",
    "        np.around(np.std(pso_plain['sse']), decimals=10),\n",
    "        np.around(np.std(pso_hybrid['sse']), decimals=10),\n",
    "    ],\n",
    "    'silhouette_mean' : [\n",
    "        np.around(np.mean(kmeanspp['silhouette']), decimals=10),\n",
    "        np.around(np.mean(pso_plain['silhouette']), decimals=10),\n",
    "        np.around(np.mean(pso_hybrid['silhouette']), decimals=10),\n",
    "    ],\n",
    "    'silhouette_stdev' : [\n",
    "        np.around(np.std(kmeanspp['silhouette']), decimals=10),\n",
    "        np.around(np.std(pso_plain['silhouette']), decimals=10),\n",
    "        np.around(np.std(pso_hybrid['silhouette']), decimals=10),\n",
    "    ],\n",
    "    'quantization_mean' : [\n",
    "        np.around(np.mean(kmeanspp['quantization']), decimals=10),\n",
    "        np.around(np.mean(pso_plain['quantization']), decimals=10),\n",
    "        np.around(np.mean(pso_hybrid['quantization']), decimals=10),\n",
    "    ],\n",
    "    'quantization_stdev' : [\n",
    "        np.around(np.std(kmeanspp['quantization']), decimals=10),\n",
    "        np.around(np.std(pso_plain['quantization']), decimals=10),\n",
    "        np.around(np.std(pso_hybrid['quantization']), decimals=10),\n",
    "    ],\n",
    "}"
   ]
  },
  {
   "cell_type": "code",
   "execution_count": 19,
   "metadata": {},
   "outputs": [
    {
     "data": {
      "text/plain": [
       "{'method': ['K-Means++', 'PSO', 'PSO Hybrid'],\n",
       " 'sse_mean': [8.4018037743, 11.3315742281, 8.111109324],\n",
       " 'sse_stdev': [1.8400728479, 2.363883766, 1.888061075],\n",
       " 'silhouette_mean': [0.4965292348, 0.5014150901, 0.4932304089],\n",
       " 'silhouette_stdev': [0.0086095693, 0.0143308715, 0.0122563634],\n",
       " 'quantization_mean': [0.1988875615, 0.1900590437, 0.1906650545],\n",
       " 'quantization_stdev': [0.0044863841, 0.0117514983, 0.0073324902]}"
      ]
     },
     "execution_count": 19,
     "metadata": {},
     "output_type": "execute_result"
    }
   ],
   "source": [
    "benchmark"
   ]
  },
  {
   "cell_type": "code",
   "execution_count": 20,
   "metadata": {},
   "outputs": [
    {
     "data": {
      "text/html": [
       "<div>\n",
       "<style scoped>\n",
       "    .dataframe tbody tr th:only-of-type {\n",
       "        vertical-align: middle;\n",
       "    }\n",
       "\n",
       "    .dataframe tbody tr th {\n",
       "        vertical-align: top;\n",
       "    }\n",
       "\n",
       "    .dataframe thead th {\n",
       "        text-align: right;\n",
       "    }\n",
       "</style>\n",
       "<table border=\"1\" class=\"dataframe\">\n",
       "  <thead>\n",
       "    <tr style=\"text-align: right;\">\n",
       "      <th></th>\n",
       "      <th>method</th>\n",
       "      <th>sse_mean</th>\n",
       "      <th>sse_stdev</th>\n",
       "      <th>silhouette_mean</th>\n",
       "      <th>silhouette_stdev</th>\n",
       "      <th>quantization_mean</th>\n",
       "      <th>quantization_stdev</th>\n",
       "    </tr>\n",
       "  </thead>\n",
       "  <tbody>\n",
       "    <tr>\n",
       "      <th>0</th>\n",
       "      <td>K-Means++</td>\n",
       "      <td>8.401804</td>\n",
       "      <td>1.840073</td>\n",
       "      <td>0.496529</td>\n",
       "      <td>0.008610</td>\n",
       "      <td>0.198888</td>\n",
       "      <td>0.004486</td>\n",
       "    </tr>\n",
       "    <tr>\n",
       "      <th>1</th>\n",
       "      <td>PSO</td>\n",
       "      <td>11.331574</td>\n",
       "      <td>2.363884</td>\n",
       "      <td>0.501415</td>\n",
       "      <td>0.014331</td>\n",
       "      <td>0.190059</td>\n",
       "      <td>0.011751</td>\n",
       "    </tr>\n",
       "    <tr>\n",
       "      <th>2</th>\n",
       "      <td>PSO Hybrid</td>\n",
       "      <td>8.111109</td>\n",
       "      <td>1.888061</td>\n",
       "      <td>0.493230</td>\n",
       "      <td>0.012256</td>\n",
       "      <td>0.190665</td>\n",
       "      <td>0.007332</td>\n",
       "    </tr>\n",
       "  </tbody>\n",
       "</table>\n",
       "</div>"
      ],
      "text/plain": [
       "       method   sse_mean  sse_stdev  silhouette_mean  silhouette_stdev  \\\n",
       "0   K-Means++   8.401804   1.840073         0.496529          0.008610   \n",
       "1         PSO  11.331574   2.363884         0.501415          0.014331   \n",
       "2  PSO Hybrid   8.111109   1.888061         0.493230          0.012256   \n",
       "\n",
       "   quantization_mean  quantization_stdev  \n",
       "0           0.198888            0.004486  \n",
       "1           0.190059            0.011751  \n",
       "2           0.190665            0.007332  "
      ]
     },
     "execution_count": 20,
     "metadata": {},
     "output_type": "execute_result"
    }
   ],
   "source": [
    "benchmark_df = pd.DataFrame.from_dict(benchmark)\n",
    "benchmark_df"
   ]
  },
  {
   "cell_type": "code",
   "execution_count": 21,
   "metadata": {},
   "outputs": [],
   "source": [
    "benchmark_df.to_excel('benchmark_iris_res.xlsx', index=False)"
   ]
  },
  {
   "cell_type": "code",
   "execution_count": 22,
   "metadata": {},
   "outputs": [],
   "source": [
    "benchmark_df.to_csv('benchmark_iris_res.csv', index=False)"
   ]
  },
  {
   "cell_type": "code",
   "execution_count": null,
   "metadata": {},
   "outputs": [],
   "source": []
  }
 ],
 "metadata": {
  "interpreter": {
   "hash": "4480e32245891b07b354378c7dbc380a1b3f17ee24171af64af582c25470e498"
  },
  "kernelspec": {
   "display_name": "Python 3.7.1 64-bit ('base': conda)",
   "name": "python3"
  },
  "language_info": {
   "codemirror_mode": {
    "name": "ipython",
    "version": 3
   },
   "file_extension": ".py",
   "mimetype": "text/x-python",
   "name": "python",
   "nbconvert_exporter": "python",
   "pygments_lexer": "ipython3",
   "version": "3.7.1"
  }
 },
 "nbformat": 4,
 "nbformat_minor": 2
}