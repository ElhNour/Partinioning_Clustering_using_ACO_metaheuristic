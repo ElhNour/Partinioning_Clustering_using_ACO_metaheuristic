{
 "cells": [
  {
   "cell_type": "code",
   "execution_count": 1,
   "metadata": {},
   "outputs": [],
   "source": [
    "import pandas as pd\n",
    "import numpy as np\n",
    "import matplotlib.pyplot as plt\n",
    "%matplotlib inline"
   ]
  },
  {
   "cell_type": "code",
   "execution_count": 2,
   "metadata": {},
   "outputs": [],
   "source": [
    "from pso import ParticleSwarmOptimizedClustering\n",
    "from particle import quantization_error, calc_sse\n",
    "from utils import normalize\n",
    "import utils\n",
    "from kmeans import KMeans\n",
    "from sklearn.metrics import silhouette_score"
   ]
  },
  {
   "cell_type": "code",
   "execution_count": 3,
   "metadata": {},
   "outputs": [
    {
     "data": {
      "text/html": [
       "<div>\n",
       "<style scoped>\n",
       "    .dataframe tbody tr th:only-of-type {\n",
       "        vertical-align: middle;\n",
       "    }\n",
       "\n",
       "    .dataframe tbody tr th {\n",
       "        vertical-align: top;\n",
       "    }\n",
       "\n",
       "    .dataframe thead th {\n",
       "        text-align: right;\n",
       "    }\n",
       "</style>\n",
       "<table border=\"1\" class=\"dataframe\">\n",
       "  <thead>\n",
       "    <tr style=\"text-align: right;\">\n",
       "      <th></th>\n",
       "      <th>0</th>\n",
       "      <th>1</th>\n",
       "      <th>2</th>\n",
       "      <th>3</th>\n",
       "      <th>4</th>\n",
       "    </tr>\n",
       "  </thead>\n",
       "  <tbody>\n",
       "    <tr>\n",
       "      <th>0</th>\n",
       "      <td>5.1</td>\n",
       "      <td>3.5</td>\n",
       "      <td>1.4</td>\n",
       "      <td>0.2</td>\n",
       "      <td>Iris-setosa</td>\n",
       "    </tr>\n",
       "    <tr>\n",
       "      <th>1</th>\n",
       "      <td>4.9</td>\n",
       "      <td>3.0</td>\n",
       "      <td>1.4</td>\n",
       "      <td>0.2</td>\n",
       "      <td>Iris-setosa</td>\n",
       "    </tr>\n",
       "    <tr>\n",
       "      <th>2</th>\n",
       "      <td>4.7</td>\n",
       "      <td>3.2</td>\n",
       "      <td>1.3</td>\n",
       "      <td>0.2</td>\n",
       "      <td>Iris-setosa</td>\n",
       "    </tr>\n",
       "    <tr>\n",
       "      <th>3</th>\n",
       "      <td>4.6</td>\n",
       "      <td>3.1</td>\n",
       "      <td>1.5</td>\n",
       "      <td>0.2</td>\n",
       "      <td>Iris-setosa</td>\n",
       "    </tr>\n",
       "    <tr>\n",
       "      <th>4</th>\n",
       "      <td>5.0</td>\n",
       "      <td>3.6</td>\n",
       "      <td>1.4</td>\n",
       "      <td>0.2</td>\n",
       "      <td>Iris-setosa</td>\n",
       "    </tr>\n",
       "  </tbody>\n",
       "</table>\n",
       "</div>"
      ],
      "text/plain": [
       "     0    1    2    3            4\n",
       "0  5.1  3.5  1.4  0.2  Iris-setosa\n",
       "1  4.9  3.0  1.4  0.2  Iris-setosa\n",
       "2  4.7  3.2  1.3  0.2  Iris-setosa\n",
       "3  4.6  3.1  1.5  0.2  Iris-setosa\n",
       "4  5.0  3.6  1.4  0.2  Iris-setosa"
      ]
     },
     "execution_count": 3,
     "metadata": {},
     "output_type": "execute_result"
    }
   ],
   "source": [
    "data = pd.read_csv('./data/iris.data', sep=',', header=None)\n",
    "data.head()"
   ]
  },
  {
   "cell_type": "code",
   "execution_count": 4,
   "metadata": {},
   "outputs": [],
   "source": [
    "data_classes = [\"Iris-setosa\", \"Iris-versicolor\", \"Iris-virginica\"]\n",
    "y = np.array(data[4].apply(data_classes.index))\n",
    "x = data.drop([4], axis=1)\n",
    "x = x.values\n",
    "x = normalize(x)"
   ]
  },
  {
   "cell_type": "markdown",
   "metadata": {},
   "source": [
    "# K-Means"
   ]
  },
  {
   "cell_type": "code",
   "execution_count": 5,
   "metadata": {},
   "outputs": [],
   "source": [
    "kmeans = KMeans(n_cluster=3, init_pp=False, seed=2018)\n",
    "kmeans.fit(x)"
   ]
  },
  {
   "cell_type": "code",
   "execution_count": 6,
   "metadata": {},
   "outputs": [
    {
     "name": "stdout",
     "output_type": "stream",
     "text": [
      "Silhouette: 0.5043188549150883\n",
      "SSE: 6.998114004826762\n",
      "Quantization: 0.19524413664147766\n",
      "Err_ratio: (0.8866666666666667, (2, 0, 1))\n"
     ]
    }
   ],
   "source": [
    "predicted_kmeans = kmeans.predict(x)\n",
    "print('Silhouette:', silhouette_score(x, predicted_kmeans))\n",
    "print('SSE:', kmeans.SSE)\n",
    "print('Quantization:', quantization_error(centroids=kmeans.centroid, data=x, labels=predicted_kmeans))\n",
    "print('Err_ratio:', utils.stupid_precision_ratio(predicted_kmeans, y, 3))"
   ]
  },
  {
   "cell_type": "code",
   "execution_count": 7,
   "metadata": {},
   "outputs": [
    {
     "name": "stdout",
     "output_type": "stream",
     "text": [
      "Silhouette: 0.5043188549150883\n",
      "SSE: 10.90827498962253\n",
      "Quantization: 0.2049806792871817\n",
      "Err_ratio: (0.5733333333333334, (2, 0, 1))\n"
     ]
    }
   ],
   "source": [
    "kmeans2 = KMeans(n_cluster=3, init_pp=True, seed=2018)\n",
    "kmeans2.fit(x)\n",
    "predicted_kmeans2 = kmeans2.predict(x)\n",
    "print('Silhouette:', silhouette_score(x, predicted_kmeans))\n",
    "print('SSE:', kmeans2.SSE)\n",
    "print('Quantization:', quantization_error(centroids=kmeans2.centroid, data=x, labels=predicted_kmeans2))\n",
    "print('Err_ratio:', utils.stupid_precision_ratio(predicted_kmeans2, y, 3))"
   ]
  },
  {
   "cell_type": "markdown",
   "metadata": {},
   "source": [
    "# PSO"
   ]
  },
  {
   "cell_type": "code",
   "execution_count": 8,
   "metadata": {},
   "outputs": [
    {
     "name": "stderr",
     "output_type": "stream",
     "text": [
      "C:\\Users\\moham\\Desktop\\2CS\\Optim\\Projet\\Partitioning_Clustering_using_PSO_metaheuristic\\particle.py:14: RuntimeWarning: invalid value encountered in double_scalars\n",
      "  dist /= len(idx)\n"
     ]
    }
   ],
   "source": [
    "pso = ParticleSwarmOptimizedClustering(\n",
    "        n_cluster=3, n_particles=20,dump_w=0.99,w=1,c2=2,c1=2, data=x, hybrid=True, max_iter=2000, print_debug=50)"
   ]
  },
  {
   "cell_type": "code",
   "execution_count": 9,
   "metadata": {},
   "outputs": [
    {
     "name": "stdout",
     "output_type": "stream",
     "text": [
      "Initial global best score 0.1873742297575847\n",
      "Iteration 0001/2000 current gbest score 0.187374229757584693\n",
      "Iteration 0051/2000 current gbest score 0.184819652656180611\n",
      "Iteration 0101/2000 current gbest score 0.176104560521358561\n",
      "Iteration 0151/2000 current gbest score 0.174530109491833202\n",
      "Iteration 0201/2000 current gbest score 0.174527694581757431\n",
      "Iteration 0251/2000 current gbest score 0.174527674176354064\n",
      "Iteration 0301/2000 current gbest score 0.174527673192589189\n",
      "Iteration 0351/2000 current gbest score 0.174527673191308103\n",
      "Iteration 0401/2000 current gbest score 0.174527673191305771\n",
      "Iteration 0451/2000 current gbest score 0.174527673191305688\n",
      "Iteration 0501/2000 current gbest score 0.174527673191305688\n",
      "Iteration 0551/2000 current gbest score 0.174527673191305688\n",
      "Iteration 0601/2000 current gbest score 0.174527673191305688\n",
      "Iteration 0651/2000 current gbest score 0.174527673191305688\n",
      "Iteration 0701/2000 current gbest score 0.174527673191305688\n",
      "Iteration 0751/2000 current gbest score 0.174527673191305688\n",
      "Iteration 0801/2000 current gbest score 0.174527673191305688\n",
      "Iteration 0851/2000 current gbest score 0.174527673191305688\n",
      "Iteration 0901/2000 current gbest score 0.174527673191305688\n",
      "Iteration 0951/2000 current gbest score 0.174527673191305688\n",
      "Iteration 1001/2000 current gbest score 0.174527673191305688\n",
      "Iteration 1051/2000 current gbest score 0.174527673191305688\n",
      "Iteration 1101/2000 current gbest score 0.174527673191305688\n",
      "Iteration 1151/2000 current gbest score 0.174527673191305688\n",
      "Iteration 1201/2000 current gbest score 0.174527673191305688\n",
      "Iteration 1251/2000 current gbest score 0.174527673191300220\n",
      "Iteration 1301/2000 current gbest score 0.174527673189494359\n",
      "Iteration 1351/2000 current gbest score 0.174527673189494359\n",
      "Iteration 1401/2000 current gbest score 0.174527673189494331\n",
      "Iteration 1451/2000 current gbest score 0.174527673189494331\n",
      "Iteration 1501/2000 current gbest score 0.174527673189494331\n",
      "Iteration 1551/2000 current gbest score 0.174527673189494331\n",
      "Iteration 1601/2000 current gbest score 0.174527673189494331\n",
      "Iteration 1651/2000 current gbest score 0.174527673189494331\n",
      "Iteration 1701/2000 current gbest score 0.174527673189494331\n",
      "Iteration 1751/2000 current gbest score 0.174527673189494331\n",
      "Iteration 1801/2000 current gbest score 0.174527673189494331\n",
      "Iteration 1851/2000 current gbest score 0.174527673189494331\n",
      "Iteration 1901/2000 current gbest score 0.174527673189494331\n",
      "Iteration 1951/2000 current gbest score 0.174527673189494331\n",
      "Finish with gbest score 0.174527673189494331\n"
     ]
    }
   ],
   "source": [
    "hist = pso.run()"
   ]
  },
  {
   "cell_type": "code",
   "execution_count": 11,
   "metadata": {},
   "outputs": [],
   "source": [
    "pso_kmeans = KMeans(n_cluster=3, init_pp=False, seed=2018)"
   ]
  },
  {
   "cell_type": "code",
   "execution_count": 12,
   "metadata": {},
   "outputs": [
    {
     "data": {
      "text/plain": [
       "array([[0.53204151, 0.35645623, 0.65311189, 0.6460833 ],\n",
       "       [0.23341459, 0.6648297 , 0.09420586, 0.0731431 ],\n",
       "       [0.0820042 , 0.4686312 , 0.05418396, 0.05670269]])"
      ]
     },
     "execution_count": 12,
     "metadata": {},
     "output_type": "execute_result"
    }
   ],
   "source": [
    "pso_kmeans.centroid = pso.gbest_centroids.copy()\n",
    "pso_kmeans.centroid"
   ]
  },
  {
   "cell_type": "code",
   "execution_count": 13,
   "metadata": {},
   "outputs": [
    {
     "name": "stdout",
     "output_type": "stream",
     "text": [
      "Silhouette: 0.5052462651098638\n",
      "SSE: 11.307346265753136\n",
      "Quantization: 0.17452767318949433\n",
      "Err_ratio: (0.54, (1, 0, 2))\n"
     ]
    }
   ],
   "source": [
    "predicted_pso = pso_kmeans.predict(x)\n",
    "print('Silhouette:', silhouette_score(x, predicted_pso))\n",
    "print('SSE:', calc_sse(centroids=pso.gbest_centroids, data=x, labels=predicted_pso))\n",
    "print('Quantization:', pso.gbest_score)\n",
    "print('Err_ratio:', utils.stupid_precision_ratio(predicted_pso, y, 3))"
   ]
  },
  {
   "cell_type": "code",
   "execution_count": 14,
   "metadata": {},
   "outputs": [
    {
     "data": {
      "text/plain": [
       "array([1, 2, 2, 2, 1, 1, 2, 1, 2, 2, 1, 1, 2, 2, 1, 1, 1, 1, 1, 1, 1, 1,\n",
       "       1, 1, 1, 2, 1, 1, 1, 2, 2, 1, 1, 1, 2, 2, 1, 2, 2, 1, 1, 2, 2, 1,\n",
       "       1, 2, 1, 2, 1, 1, 0, 0, 0, 0, 0, 0, 0, 0, 0, 0, 0, 0, 0, 0, 0, 0,\n",
       "       0, 0, 0, 0, 0, 0, 0, 0, 0, 0, 0, 0, 0, 0, 0, 0, 0, 0, 0, 0, 0, 0,\n",
       "       0, 0, 0, 0, 0, 0, 0, 0, 0, 0, 0, 0, 0, 0, 0, 0, 0, 0, 0, 0, 0, 0,\n",
       "       0, 0, 0, 0, 0, 0, 0, 0, 0, 0, 0, 0, 0, 0, 0, 0, 0, 0, 0, 0, 0, 0,\n",
       "       0, 0, 0, 0, 0, 0, 0, 0, 0, 0, 0, 0, 0, 0, 0, 0, 0, 0], dtype=int64)"
      ]
     },
     "execution_count": 14,
     "metadata": {},
     "output_type": "execute_result"
    }
   ],
   "source": [
    "predicted_pso"
   ]
  },
  {
   "cell_type": "code",
   "execution_count": 15,
   "metadata": {},
   "outputs": [
    {
     "data": {
      "text/plain": [
       "array([0, 0, 0, 0, 0, 0, 0, 0, 0, 0, 0, 0, 0, 0, 0, 0, 0, 0, 0, 0, 0, 0,\n",
       "       0, 0, 0, 0, 0, 0, 0, 0, 0, 0, 0, 0, 0, 0, 0, 0, 0, 0, 0, 0, 0, 0,\n",
       "       0, 0, 0, 0, 0, 0, 1, 1, 1, 1, 1, 1, 1, 1, 1, 1, 1, 1, 1, 1, 1, 1,\n",
       "       1, 1, 1, 1, 1, 1, 1, 1, 1, 1, 1, 1, 1, 1, 1, 1, 1, 1, 1, 1, 1, 1,\n",
       "       1, 1, 1, 1, 1, 1, 1, 1, 1, 1, 1, 1, 2, 2, 2, 2, 2, 2, 2, 2, 2, 2,\n",
       "       2, 2, 2, 2, 2, 2, 2, 2, 2, 2, 2, 2, 2, 2, 2, 2, 2, 2, 2, 2, 2, 2,\n",
       "       2, 2, 2, 2, 2, 2, 2, 2, 2, 2, 2, 2, 2, 2, 2, 2, 2, 2], dtype=int64)"
      ]
     },
     "execution_count": 15,
     "metadata": {},
     "output_type": "execute_result"
    }
   ],
   "source": [
    "y"
   ]
  },
  {
   "cell_type": "markdown",
   "metadata": {},
   "source": [
    "# Repeated Test"
   ]
  },
  {
   "cell_type": "markdown",
   "metadata": {},
   "source": [
    "### K-Means++"
   ]
  },
  {
   "cell_type": "code",
   "execution_count": 13,
   "metadata": {},
   "outputs": [],
   "source": [
    "kmeanspp = {\r\n",
    "    'silhouette': [],\r\n",
    "    'sse' : [],\r\n",
    "    'quantization' : [],\r\n",
    "}\r\n",
    "for _ in range(20):\r\n",
    "    kmean_rep = KMeans(n_cluster=3, init_pp=True)\r\n",
    "    kmean_rep.fit(x)\r\n",
    "    predicted_kmean_rep = kmean_rep.predict(x)\r\n",
    "    silhouette = silhouette_score(x, predicted_kmean_rep)\r\n",
    "    sse = kmean_rep.SSE\r\n",
    "    quantization = quantization_error(centroids=kmean_rep.centroid, data=x, labels=predicted_kmean_rep)\r\n",
    "    kmeanspp['silhouette'].append(silhouette)\r\n",
    "    kmeanspp['sse'].append(sse)\r\n",
    "    kmeanspp['quantization'].append(quantization)"
   ]
  },
  {
   "cell_type": "markdown",
   "metadata": {},
   "source": [
    "### PSO "
   ]
  },
  {
   "cell_type": "code",
   "execution_count": 19,
   "metadata": {},
   "outputs": [
    {
     "name": "stdout",
     "output_type": "stream",
     "text": [
      "Initial global best score 0.2431153843813657\n",
      "Iteration 0001/2000 current gbest score 0.243115384381365707\n"
     ]
    },
    {
     "name": "stderr",
     "output_type": "stream",
     "text": [
      "d:\\study\\2SIQ3\\OPTIM\\Partitioning_Clustering_using_ACO_metaheuristic\\particle.py:14: RuntimeWarning: invalid value encountered in double_scalars\n",
      "  dist /= len(idx)\n"
     ]
    },
    {
     "name": "stdout",
     "output_type": "stream",
     "text": [
      "Finish with gbest score 0.213098205576494171\n",
      "Initial global best score 0.19467141182285472\n",
      "Iteration 0001/2000 current gbest score 0.194671411822854717\n"
     ]
    },
    {
     "name": "stderr",
     "output_type": "stream",
     "text": [
      "d:\\study\\2SIQ3\\OPTIM\\Partitioning_Clustering_using_ACO_metaheuristic\\particle.py:14: RuntimeWarning: invalid value encountered in double_scalars\n",
      "  dist /= len(idx)\n"
     ]
    },
    {
     "name": "stdout",
     "output_type": "stream",
     "text": [
      "Finish with gbest score 0.179239468351963444\n",
      "Initial global best score 0.18507380261010256\n",
      "Iteration 0001/2000 current gbest score 0.185073802610102561\n"
     ]
    },
    {
     "name": "stderr",
     "output_type": "stream",
     "text": [
      "d:\\study\\2SIQ3\\OPTIM\\Partitioning_Clustering_using_ACO_metaheuristic\\particle.py:14: RuntimeWarning: invalid value encountered in double_scalars\n",
      "  dist /= len(idx)\n"
     ]
    },
    {
     "name": "stdout",
     "output_type": "stream",
     "text": [
      "Finish with gbest score 0.175875998308897996\n",
      "Initial global best score 0.224749553280849\n",
      "Iteration 0001/2000 current gbest score 0.224749553280849002\n"
     ]
    },
    {
     "name": "stderr",
     "output_type": "stream",
     "text": [
      "d:\\study\\2SIQ3\\OPTIM\\Partitioning_Clustering_using_ACO_metaheuristic\\particle.py:14: RuntimeWarning: invalid value encountered in double_scalars\n",
      "  dist /= len(idx)\n"
     ]
    },
    {
     "name": "stdout",
     "output_type": "stream",
     "text": [
      "Finish with gbest score 0.211296264659666638\n",
      "Initial global best score 0.27019288128934255\n",
      "Iteration 0001/2000 current gbest score 0.270192881289342546\n"
     ]
    },
    {
     "name": "stderr",
     "output_type": "stream",
     "text": [
      "d:\\study\\2SIQ3\\OPTIM\\Partitioning_Clustering_using_ACO_metaheuristic\\particle.py:14: RuntimeWarning: invalid value encountered in double_scalars\n",
      "  dist /= len(idx)\n"
     ]
    },
    {
     "name": "stdout",
     "output_type": "stream",
     "text": [
      "Finish with gbest score 0.213171902236503258\n",
      "Initial global best score 0.2107002958888676\n",
      "Iteration 0001/2000 current gbest score 0.210700295888867600\n"
     ]
    },
    {
     "name": "stderr",
     "output_type": "stream",
     "text": [
      "d:\\study\\2SIQ3\\OPTIM\\Partitioning_Clustering_using_ACO_metaheuristic\\particle.py:14: RuntimeWarning: invalid value encountered in double_scalars\n",
      "  dist /= len(idx)\n"
     ]
    },
    {
     "name": "stdout",
     "output_type": "stream",
     "text": [
      "Finish with gbest score 0.202009563210388238\n",
      "Initial global best score 0.24963718203751362\n",
      "Iteration 0001/2000 current gbest score 0.249637182037513616\n"
     ]
    },
    {
     "name": "stderr",
     "output_type": "stream",
     "text": [
      "d:\\study\\2SIQ3\\OPTIM\\Partitioning_Clustering_using_ACO_metaheuristic\\particle.py:14: RuntimeWarning: invalid value encountered in double_scalars\n",
      "  dist /= len(idx)\n"
     ]
    },
    {
     "name": "stdout",
     "output_type": "stream",
     "text": [
      "Finish with gbest score 0.232910849279922560\n",
      "Initial global best score 0.21897628661076463\n",
      "Iteration 0001/2000 current gbest score 0.218976286610764626\n"
     ]
    },
    {
     "name": "stderr",
     "output_type": "stream",
     "text": [
      "d:\\study\\2SIQ3\\OPTIM\\Partitioning_Clustering_using_ACO_metaheuristic\\particle.py:14: RuntimeWarning: invalid value encountered in double_scalars\n",
      "  dist /= len(idx)\n"
     ]
    },
    {
     "name": "stdout",
     "output_type": "stream",
     "text": [
      "Finish with gbest score 0.189127547177255884\n",
      "Initial global best score 0.21197231508969439\n",
      "Iteration 0001/2000 current gbest score 0.211972315089694385\n"
     ]
    },
    {
     "name": "stderr",
     "output_type": "stream",
     "text": [
      "d:\\study\\2SIQ3\\OPTIM\\Partitioning_Clustering_using_ACO_metaheuristic\\particle.py:14: RuntimeWarning: invalid value encountered in double_scalars\n",
      "  dist /= len(idx)\n"
     ]
    },
    {
     "name": "stdout",
     "output_type": "stream",
     "text": [
      "Finish with gbest score 0.200112106832221359\n",
      "Initial global best score 0.20559135494351946\n",
      "Iteration 0001/2000 current gbest score 0.205591354943519461\n"
     ]
    },
    {
     "name": "stderr",
     "output_type": "stream",
     "text": [
      "d:\\study\\2SIQ3\\OPTIM\\Partitioning_Clustering_using_ACO_metaheuristic\\particle.py:14: RuntimeWarning: invalid value encountered in double_scalars\n",
      "  dist /= len(idx)\n"
     ]
    },
    {
     "name": "stdout",
     "output_type": "stream",
     "text": [
      "Finish with gbest score 0.176121912934118247\n",
      "Initial global best score 0.255610122690971\n",
      "Iteration 0001/2000 current gbest score 0.249486526124538560\n"
     ]
    },
    {
     "name": "stderr",
     "output_type": "stream",
     "text": [
      "d:\\study\\2SIQ3\\OPTIM\\Partitioning_Clustering_using_ACO_metaheuristic\\particle.py:14: RuntimeWarning: invalid value encountered in double_scalars\n",
      "  dist /= len(idx)\n"
     ]
    },
    {
     "name": "stdout",
     "output_type": "stream",
     "text": [
      "Finish with gbest score 0.203462219987282561\n",
      "Initial global best score 0.23035860101597475\n",
      "Iteration 0001/2000 current gbest score 0.230358601015974745\n"
     ]
    },
    {
     "name": "stderr",
     "output_type": "stream",
     "text": [
      "d:\\study\\2SIQ3\\OPTIM\\Partitioning_Clustering_using_ACO_metaheuristic\\particle.py:14: RuntimeWarning: invalid value encountered in double_scalars\n",
      "  dist /= len(idx)\n"
     ]
    },
    {
     "name": "stdout",
     "output_type": "stream",
     "text": [
      "Finish with gbest score 0.201200847829100554\n",
      "Initial global best score 0.23880274361632545\n",
      "Iteration 0001/2000 current gbest score 0.238802743616325447\n"
     ]
    },
    {
     "name": "stderr",
     "output_type": "stream",
     "text": [
      "d:\\study\\2SIQ3\\OPTIM\\Partitioning_Clustering_using_ACO_metaheuristic\\particle.py:14: RuntimeWarning: invalid value encountered in double_scalars\n",
      "  dist /= len(idx)\n"
     ]
    },
    {
     "name": "stdout",
     "output_type": "stream",
     "text": [
      "Finish with gbest score 0.203870149191969136\n",
      "Initial global best score 0.23804207637920652\n",
      "Iteration 0001/2000 current gbest score 0.212909404124141721\n"
     ]
    },
    {
     "name": "stderr",
     "output_type": "stream",
     "text": [
      "d:\\study\\2SIQ3\\OPTIM\\Partitioning_Clustering_using_ACO_metaheuristic\\particle.py:14: RuntimeWarning: invalid value encountered in double_scalars\n",
      "  dist /= len(idx)\n"
     ]
    },
    {
     "name": "stdout",
     "output_type": "stream",
     "text": [
      "Finish with gbest score 0.195218871134553940\n",
      "Initial global best score 0.21906324762377238\n",
      "Iteration 0001/2000 current gbest score 0.219063247623772384\n"
     ]
    },
    {
     "name": "stderr",
     "output_type": "stream",
     "text": [
      "d:\\study\\2SIQ3\\OPTIM\\Partitioning_Clustering_using_ACO_metaheuristic\\particle.py:14: RuntimeWarning: invalid value encountered in double_scalars\n",
      "  dist /= len(idx)\n"
     ]
    },
    {
     "name": "stdout",
     "output_type": "stream",
     "text": [
      "Finish with gbest score 0.194917542070308508\n",
      "Initial global best score 0.23620662080083407\n",
      "Iteration 0001/2000 current gbest score 0.236206620800834072\n"
     ]
    },
    {
     "name": "stderr",
     "output_type": "stream",
     "text": [
      "d:\\study\\2SIQ3\\OPTIM\\Partitioning_Clustering_using_ACO_metaheuristic\\particle.py:14: RuntimeWarning: invalid value encountered in double_scalars\n",
      "  dist /= len(idx)\n"
     ]
    },
    {
     "name": "stdout",
     "output_type": "stream",
     "text": [
      "Finish with gbest score 0.203600217898763175\n",
      "Initial global best score 0.21891156028439693\n",
      "Iteration 0001/2000 current gbest score 0.218911560284396928\n"
     ]
    },
    {
     "name": "stderr",
     "output_type": "stream",
     "text": [
      "d:\\study\\2SIQ3\\OPTIM\\Partitioning_Clustering_using_ACO_metaheuristic\\particle.py:14: RuntimeWarning: invalid value encountered in double_scalars\n",
      "  dist /= len(idx)\n"
     ]
    },
    {
     "name": "stdout",
     "output_type": "stream",
     "text": [
      "Finish with gbest score 0.202442217858686407\n",
      "Initial global best score 0.19900933063163387\n",
      "Iteration 0001/2000 current gbest score 0.199009330631633868\n"
     ]
    },
    {
     "name": "stderr",
     "output_type": "stream",
     "text": [
      "d:\\study\\2SIQ3\\OPTIM\\Partitioning_Clustering_using_ACO_metaheuristic\\particle.py:14: RuntimeWarning: invalid value encountered in double_scalars\n",
      "  dist /= len(idx)\n"
     ]
    },
    {
     "name": "stdout",
     "output_type": "stream",
     "text": [
      "Finish with gbest score 0.189492063922788473\n",
      "Initial global best score 0.2269481653403105\n",
      "Iteration 0001/2000 current gbest score 0.226948165340310509\n"
     ]
    },
    {
     "name": "stderr",
     "output_type": "stream",
     "text": [
      "d:\\study\\2SIQ3\\OPTIM\\Partitioning_Clustering_using_ACO_metaheuristic\\particle.py:14: RuntimeWarning: invalid value encountered in double_scalars\n",
      "  dist /= len(idx)\n"
     ]
    },
    {
     "name": "stdout",
     "output_type": "stream",
     "text": [
      "Finish with gbest score 0.201712695984712531\n",
      "Initial global best score 0.23984638791186433\n",
      "Iteration 0001/2000 current gbest score 0.237337059875291440\n"
     ]
    },
    {
     "name": "stderr",
     "output_type": "stream",
     "text": [
      "d:\\study\\2SIQ3\\OPTIM\\Partitioning_Clustering_using_ACO_metaheuristic\\particle.py:14: RuntimeWarning: invalid value encountered in double_scalars\n",
      "  dist /= len(idx)\n"
     ]
    },
    {
     "name": "stdout",
     "output_type": "stream",
     "text": [
      "Finish with gbest score 0.198277540932677659\n",
      "Wall time: 2min 11s\n"
     ]
    }
   ],
   "source": [
    "%%time\r\n",
    "pso_plain = {\r\n",
    "    'silhouette': [],\r\n",
    "    'sse' : [],\r\n",
    "    'quantization' : [],\r\n",
    "}\r\n",
    "for _ in range(20):\r\n",
    "    pso_rep = ParticleSwarmOptimizedClustering(\r\n",
    "        n_cluster=3, n_particles=10, data=x,dump_w=0.99,c1=2,c2=2,w=1, hybrid=False, max_iter=2000, print_debug=2000)\r\n",
    "    pso_rep.run()\r\n",
    "    pso_kmeans = KMeans(n_cluster=3, init_pp=False, seed=2018)\r\n",
    "    pso_kmeans.centroid = pso_rep.gbest_centroids.copy()\r\n",
    "    predicted_pso_rep = pso_kmeans.predict(x)\r\n",
    "    \r\n",
    "    silhouette = silhouette_score(x, predicted_pso_rep)\r\n",
    "    sse = calc_sse(centroids=pso_rep.gbest_centroids, data=x, labels=predicted_pso_rep)\r\n",
    "    quantization = pso_rep.gbest_score\r\n",
    "    pso_plain['silhouette'].append(silhouette)\r\n",
    "    pso_plain['sse'].append(sse)\r\n",
    "    pso_plain['quantization'].append(quantization)"
   ]
  },
  {
   "cell_type": "markdown",
   "metadata": {},
   "source": [
    "### PSO Hybrid"
   ]
  },
  {
   "cell_type": "code",
   "execution_count": 21,
   "metadata": {},
   "outputs": [
    {
     "name": "stdout",
     "output_type": "stream",
     "text": [
      "Initial global best score 0.19524413664147766\n",
      "Iteration 0001/2000 current gbest score 0.195244136641477661\n"
     ]
    },
    {
     "name": "stderr",
     "output_type": "stream",
     "text": [
      "d:\\study\\2SIQ3\\OPTIM\\Partitioning_Clustering_using_ACO_metaheuristic\\particle.py:14: RuntimeWarning: invalid value encountered in double_scalars\n",
      "  dist /= len(idx)\n"
     ]
    },
    {
     "name": "stdout",
     "output_type": "stream",
     "text": [
      "Finish with gbest score 0.194860482920887007\n",
      "Initial global best score 0.19618667657047784\n",
      "Iteration 0001/2000 current gbest score 0.196186676570477836\n"
     ]
    },
    {
     "name": "stderr",
     "output_type": "stream",
     "text": [
      "d:\\study\\2SIQ3\\OPTIM\\Partitioning_Clustering_using_ACO_metaheuristic\\particle.py:14: RuntimeWarning: invalid value encountered in double_scalars\n",
      "  dist /= len(idx)\n"
     ]
    },
    {
     "name": "stdout",
     "output_type": "stream",
     "text": [
      "Finish with gbest score 0.195831556995042927\n",
      "Initial global best score 0.1962931514745171\n",
      "Iteration 0001/2000 current gbest score 0.196293151474517091\n"
     ]
    },
    {
     "name": "stderr",
     "output_type": "stream",
     "text": [
      "d:\\study\\2SIQ3\\OPTIM\\Partitioning_Clustering_using_ACO_metaheuristic\\particle.py:14: RuntimeWarning: invalid value encountered in double_scalars\n",
      "  dist /= len(idx)\n"
     ]
    },
    {
     "name": "stdout",
     "output_type": "stream",
     "text": [
      "Finish with gbest score 0.195084166971718570\n",
      "Initial global best score 0.19524413664147766\n",
      "Iteration 0001/2000 current gbest score 0.195244136641477661\n"
     ]
    },
    {
     "name": "stderr",
     "output_type": "stream",
     "text": [
      "d:\\study\\2SIQ3\\OPTIM\\Partitioning_Clustering_using_ACO_metaheuristic\\particle.py:14: RuntimeWarning: invalid value encountered in double_scalars\n",
      "  dist /= len(idx)\n"
     ]
    },
    {
     "name": "stdout",
     "output_type": "stream",
     "text": [
      "Finish with gbest score 0.194915977935499002\n",
      "Initial global best score 0.19618667657047784\n",
      "Iteration 0001/2000 current gbest score 0.196186676570477836\n"
     ]
    },
    {
     "name": "stderr",
     "output_type": "stream",
     "text": [
      "d:\\study\\2SIQ3\\OPTIM\\Partitioning_Clustering_using_ACO_metaheuristic\\particle.py:14: RuntimeWarning: invalid value encountered in double_scalars\n",
      "  dist /= len(idx)\n"
     ]
    },
    {
     "name": "stdout",
     "output_type": "stream",
     "text": [
      "Finish with gbest score 0.195859928926845034\n",
      "Initial global best score 0.19524413664147766\n",
      "Iteration 0001/2000 current gbest score 0.195244136641477661\n"
     ]
    },
    {
     "name": "stderr",
     "output_type": "stream",
     "text": [
      "d:\\study\\2SIQ3\\OPTIM\\Partitioning_Clustering_using_ACO_metaheuristic\\particle.py:14: RuntimeWarning: invalid value encountered in double_scalars\n",
      "  dist /= len(idx)\n"
     ]
    },
    {
     "name": "stdout",
     "output_type": "stream",
     "text": [
      "Finish with gbest score 0.194727072550676200\n",
      "Initial global best score 0.2049806792871817\n",
      "Iteration 0001/2000 current gbest score 0.203194142861129662\n"
     ]
    },
    {
     "name": "stderr",
     "output_type": "stream",
     "text": [
      "d:\\study\\2SIQ3\\OPTIM\\Partitioning_Clustering_using_ACO_metaheuristic\\particle.py:14: RuntimeWarning: invalid value encountered in double_scalars\n",
      "  dist /= len(idx)\n"
     ]
    },
    {
     "name": "stdout",
     "output_type": "stream",
     "text": [
      "Finish with gbest score 0.180520514308677299\n",
      "Initial global best score 0.19618667657047784\n",
      "Iteration 0001/2000 current gbest score 0.196068189052090530\n"
     ]
    },
    {
     "name": "stderr",
     "output_type": "stream",
     "text": [
      "d:\\study\\2SIQ3\\OPTIM\\Partitioning_Clustering_using_ACO_metaheuristic\\particle.py:14: RuntimeWarning: invalid value encountered in double_scalars\n",
      "  dist /= len(idx)\n"
     ]
    },
    {
     "name": "stdout",
     "output_type": "stream",
     "text": [
      "Finish with gbest score 0.193353944269945094\n",
      "Initial global best score 0.19524413664147766\n",
      "Iteration 0001/2000 current gbest score 0.195244136641477661\n"
     ]
    },
    {
     "name": "stderr",
     "output_type": "stream",
     "text": [
      "d:\\study\\2SIQ3\\OPTIM\\Partitioning_Clustering_using_ACO_metaheuristic\\particle.py:14: RuntimeWarning: invalid value encountered in double_scalars\n",
      "  dist /= len(idx)\n"
     ]
    },
    {
     "name": "stdout",
     "output_type": "stream",
     "text": [
      "Finish with gbest score 0.194734929166870963\n",
      "Initial global best score 0.2049806792871817\n",
      "Iteration 0001/2000 current gbest score 0.204980679287181694\n"
     ]
    },
    {
     "name": "stderr",
     "output_type": "stream",
     "text": [
      "d:\\study\\2SIQ3\\OPTIM\\Partitioning_Clustering_using_ACO_metaheuristic\\particle.py:14: RuntimeWarning: invalid value encountered in double_scalars\n",
      "  dist /= len(idx)\n"
     ]
    },
    {
     "name": "stdout",
     "output_type": "stream",
     "text": [
      "Finish with gbest score 0.174698204850700645\n",
      "Initial global best score 0.21985059780030372\n",
      "Iteration 0001/2000 current gbest score 0.219850597800303721\n"
     ]
    },
    {
     "name": "stderr",
     "output_type": "stream",
     "text": [
      "D:\\Programs\\Anaconda3\\lib\\site-packages\\numpy\\core\\fromnumeric.py:3420: RuntimeWarning: Mean of empty slice.\n",
      "  out=out, **kwargs)\n",
      "D:\\Programs\\Anaconda3\\lib\\site-packages\\numpy\\core\\_methods.py:181: RuntimeWarning: invalid value encountered in true_divide\n",
      "  ret, rcount, out=ret, casting='unsafe', subok=False)\n",
      "d:\\study\\2SIQ3\\OPTIM\\Partitioning_Clustering_using_ACO_metaheuristic\\particle.py:14: RuntimeWarning: invalid value encountered in double_scalars\n",
      "  dist /= len(idx)\n",
      "d:\\study\\2SIQ3\\OPTIM\\Partitioning_Clustering_using_ACO_metaheuristic\\particle.py:14: RuntimeWarning: invalid value encountered in double_scalars\n",
      "  dist /= len(idx)\n"
     ]
    },
    {
     "name": "stdout",
     "output_type": "stream",
     "text": [
      "Finish with gbest score 0.214223136650123852\n",
      "Initial global best score 0.19524413664147766\n",
      "Iteration 0001/2000 current gbest score 0.195244136641477661\n",
      "Finish with gbest score 0.194817504128015323\n",
      "Initial global best score 0.19524413664147766\n",
      "Iteration 0001/2000 current gbest score 0.195244136641477661\n"
     ]
    },
    {
     "name": "stderr",
     "output_type": "stream",
     "text": [
      "d:\\study\\2SIQ3\\OPTIM\\Partitioning_Clustering_using_ACO_metaheuristic\\particle.py:14: RuntimeWarning: invalid value encountered in double_scalars\n",
      "  dist /= len(idx)\n"
     ]
    },
    {
     "name": "stdout",
     "output_type": "stream",
     "text": [
      "Finish with gbest score 0.194693795280330068\n",
      "Initial global best score 0.2049806792871817\n",
      "Iteration 0001/2000 current gbest score 0.204980679287181694\n"
     ]
    },
    {
     "name": "stderr",
     "output_type": "stream",
     "text": [
      "d:\\study\\2SIQ3\\OPTIM\\Partitioning_Clustering_using_ACO_metaheuristic\\particle.py:14: RuntimeWarning: invalid value encountered in double_scalars\n",
      "  dist /= len(idx)\n"
     ]
    },
    {
     "name": "stdout",
     "output_type": "stream",
     "text": [
      "Finish with gbest score 0.195527321997299636\n",
      "Initial global best score 0.19524413664147766\n",
      "Iteration 0001/2000 current gbest score 0.195244136641477661\n"
     ]
    },
    {
     "name": "stderr",
     "output_type": "stream",
     "text": [
      "d:\\study\\2SIQ3\\OPTIM\\Partitioning_Clustering_using_ACO_metaheuristic\\particle.py:14: RuntimeWarning: invalid value encountered in double_scalars\n",
      "  dist /= len(idx)\n"
     ]
    },
    {
     "name": "stdout",
     "output_type": "stream",
     "text": [
      "Finish with gbest score 0.194682390502658426\n",
      "Initial global best score 0.19618667657047784\n",
      "Iteration 0001/2000 current gbest score 0.196186676570477836\n"
     ]
    },
    {
     "name": "stderr",
     "output_type": "stream",
     "text": [
      "d:\\study\\2SIQ3\\OPTIM\\Partitioning_Clustering_using_ACO_metaheuristic\\particle.py:14: RuntimeWarning: invalid value encountered in double_scalars\n",
      "  dist /= len(idx)\n"
     ]
    },
    {
     "name": "stdout",
     "output_type": "stream",
     "text": [
      "Finish with gbest score 0.194177276161650342\n",
      "Initial global best score 0.19524413664147766\n",
      "Iteration 0001/2000 current gbest score 0.195244136641477661\n"
     ]
    },
    {
     "name": "stderr",
     "output_type": "stream",
     "text": [
      "d:\\study\\2SIQ3\\OPTIM\\Partitioning_Clustering_using_ACO_metaheuristic\\particle.py:14: RuntimeWarning: invalid value encountered in double_scalars\n",
      "  dist /= len(idx)\n"
     ]
    },
    {
     "name": "stdout",
     "output_type": "stream",
     "text": [
      "Finish with gbest score 0.193817834034274550\n",
      "Initial global best score 0.19618667657047784\n",
      "Iteration 0001/2000 current gbest score 0.196186676570477836\n"
     ]
    },
    {
     "name": "stderr",
     "output_type": "stream",
     "text": [
      "d:\\study\\2SIQ3\\OPTIM\\Partitioning_Clustering_using_ACO_metaheuristic\\particle.py:14: RuntimeWarning: invalid value encountered in double_scalars\n",
      "  dist /= len(idx)\n"
     ]
    },
    {
     "name": "stdout",
     "output_type": "stream",
     "text": [
      "Finish with gbest score 0.193876885159073725\n",
      "Initial global best score 0.19524413664147766\n",
      "Iteration 0001/2000 current gbest score 0.195244136641477661\n"
     ]
    },
    {
     "name": "stderr",
     "output_type": "stream",
     "text": [
      "d:\\study\\2SIQ3\\OPTIM\\Partitioning_Clustering_using_ACO_metaheuristic\\particle.py:14: RuntimeWarning: invalid value encountered in double_scalars\n",
      "  dist /= len(idx)\n"
     ]
    },
    {
     "name": "stdout",
     "output_type": "stream",
     "text": [
      "Finish with gbest score 0.194122351984317515\n",
      "Initial global best score 0.1962931514745171\n",
      "Iteration 0001/2000 current gbest score 0.196293151474517091\n"
     ]
    },
    {
     "name": "stderr",
     "output_type": "stream",
     "text": [
      "d:\\study\\2SIQ3\\OPTIM\\Partitioning_Clustering_using_ACO_metaheuristic\\particle.py:14: RuntimeWarning: invalid value encountered in double_scalars\n",
      "  dist /= len(idx)\n"
     ]
    },
    {
     "name": "stdout",
     "output_type": "stream",
     "text": [
      "Finish with gbest score 0.193231098421109637\n",
      "Wall time: 1min 50s\n"
     ]
    }
   ],
   "source": [
    "%%time\r\n",
    "pso_hybrid = {\r\n",
    "    'silhouette': [],\r\n",
    "    'sse' : [],\r\n",
    "    'quantization' : [],\r\n",
    "}\r\n",
    "for _ in range(20):\r\n",
    "    pso_rep = ParticleSwarmOptimizedClustering(\r\n",
    "        n_cluster=3, n_particles=10, data=x,dump_w=0.99,c1=2,c2=2,w=1, hybrid=True, max_iter=2000, print_debug=2000)\r\n",
    "    pso_rep.run()\r\n",
    "    pso_kmeans = KMeans(n_cluster=3, init_pp=False, seed=2018)\r\n",
    "    pso_kmeans.centroid = pso_rep.gbest_centroids.copy()\r\n",
    "    predicted_pso_rep = pso_kmeans.predict(x)\r\n",
    "    \r\n",
    "    silhouette = silhouette_score(x, predicted_pso_rep)\r\n",
    "    sse = calc_sse(centroids=pso_rep.gbest_centroids, data=x, labels=predicted_pso_rep)\r\n",
    "    quantization = pso_rep.gbest_score\r\n",
    "    pso_hybrid['silhouette'].append(silhouette)\r\n",
    "    pso_hybrid['sse'].append(sse)\r\n",
    "    pso_hybrid['quantization'].append(quantization)"
   ]
  },
  {
   "cell_type": "markdown",
   "metadata": {},
   "source": [
    "# Comparison"
   ]
  },
  {
   "cell_type": "code",
   "execution_count": 22,
   "metadata": {},
   "outputs": [],
   "source": [
    "benchmark = {\n",
    "    'method' : ['K-Means++', 'PSO', 'PSO Hybrid'],\n",
    "    'sse_mean' : [\n",
    "        np.around(np.mean(kmeanspp['sse']), decimals=10),\n",
    "        np.around(np.mean(pso_plain['sse']), decimals=10),\n",
    "        np.around(np.mean(pso_hybrid['sse']), decimals=10),\n",
    "    ],\n",
    "    'sse_stdev' : [\n",
    "        np.around(np.std(kmeanspp['sse']), decimals=10),\n",
    "        np.around(np.std(pso_plain['sse']), decimals=10),\n",
    "        np.around(np.std(pso_hybrid['sse']), decimals=10),\n",
    "    ],\n",
    "    'silhouette_mean' : [\n",
    "        np.around(np.mean(kmeanspp['silhouette']), decimals=10),\n",
    "        np.around(np.mean(pso_plain['silhouette']), decimals=10),\n",
    "        np.around(np.mean(pso_hybrid['silhouette']), decimals=10),\n",
    "    ],\n",
    "    'silhouette_stdev' : [\n",
    "        np.around(np.std(kmeanspp['silhouette']), decimals=10),\n",
    "        np.around(np.std(pso_plain['silhouette']), decimals=10),\n",
    "        np.around(np.std(pso_hybrid['silhouette']), decimals=10),\n",
    "    ],\n",
    "    'quantization_mean' : [\n",
    "        np.around(np.mean(kmeanspp['quantization']), decimals=10),\n",
    "        np.around(np.mean(pso_plain['quantization']), decimals=10),\n",
    "        np.around(np.mean(pso_hybrid['quantization']), decimals=10),\n",
    "    ],\n",
    "    'quantization_stdev' : [\n",
    "        np.around(np.std(kmeanspp['quantization']), decimals=10),\n",
    "        np.around(np.std(pso_plain['quantization']), decimals=10),\n",
    "        np.around(np.std(pso_hybrid['quantization']), decimals=10),\n",
    "    ],\n",
    "}"
   ]
  },
  {
   "cell_type": "code",
   "execution_count": 23,
   "metadata": {},
   "outputs": [
    {
     "data": {
      "text/plain": [
       "{'method': ['K-Means++', 'PSO', 'PSO Hybrid'],\n",
       " 'sse_mean': [8.0459211006, 10.3455890994, 7.9015546244],\n",
       " 'sse_stdev': [1.6535763914, 2.3428745331, 1.596426723],\n",
       " 'silhouette_mean': [0.4917327084, 0.4871404119, 0.4940488978],\n",
       " 'silhouette_stdev': [0.0095544033, 0.0235880626, 0.0115855836],\n",
       " 'quantization_mean': [0.1981495423, 0.1993579093, 0.1938878187],\n",
       " 'quantization_stdev': [0.0039626853, 0.0131629743, 0.0069952424]}"
      ]
     },
     "execution_count": 23,
     "metadata": {},
     "output_type": "execute_result"
    }
   ],
   "source": [
    "benchmark"
   ]
  },
  {
   "cell_type": "code",
   "execution_count": 31,
   "metadata": {},
   "outputs": [
    {
     "data": {
      "text/html": [
       "<div>\n",
       "<style scoped>\n",
       "    .dataframe tbody tr th:only-of-type {\n",
       "        vertical-align: middle;\n",
       "    }\n",
       "\n",
       "    .dataframe tbody tr th {\n",
       "        vertical-align: top;\n",
       "    }\n",
       "\n",
       "    .dataframe thead th {\n",
       "        text-align: right;\n",
       "    }\n",
       "</style>\n",
       "<table border=\"1\" class=\"dataframe\">\n",
       "  <thead>\n",
       "    <tr style=\"text-align: right;\">\n",
       "      <th></th>\n",
       "      <th>method</th>\n",
       "      <th>sse_mean</th>\n",
       "      <th>sse_stdev</th>\n",
       "      <th>silhouette_mean</th>\n",
       "      <th>silhouette_stdev</th>\n",
       "      <th>quantization_mean</th>\n",
       "      <th>quantization_stdev</th>\n",
       "    </tr>\n",
       "  </thead>\n",
       "  <tbody>\n",
       "    <tr>\n",
       "      <th>0</th>\n",
       "      <td>K-Means++</td>\n",
       "      <td>8.045921</td>\n",
       "      <td>1.653576</td>\n",
       "      <td>0.491733</td>\n",
       "      <td>0.009554</td>\n",
       "      <td>0.198150</td>\n",
       "      <td>0.003963</td>\n",
       "    </tr>\n",
       "    <tr>\n",
       "      <th>1</th>\n",
       "      <td>PSO</td>\n",
       "      <td>10.345589</td>\n",
       "      <td>2.342875</td>\n",
       "      <td>0.487140</td>\n",
       "      <td>0.023588</td>\n",
       "      <td>0.199358</td>\n",
       "      <td>0.013163</td>\n",
       "    </tr>\n",
       "    <tr>\n",
       "      <th>2</th>\n",
       "      <td>PSO Hybrid</td>\n",
       "      <td>7.901555</td>\n",
       "      <td>1.596427</td>\n",
       "      <td>0.494049</td>\n",
       "      <td>0.011586</td>\n",
       "      <td>0.193888</td>\n",
       "      <td>0.006995</td>\n",
       "    </tr>\n",
       "  </tbody>\n",
       "</table>\n",
       "</div>"
      ],
      "text/plain": [
       "       method   sse_mean  sse_stdev  silhouette_mean  silhouette_stdev  \\\n",
       "0   K-Means++   8.045921   1.653576         0.491733          0.009554   \n",
       "1         PSO  10.345589   2.342875         0.487140          0.023588   \n",
       "2  PSO Hybrid   7.901555   1.596427         0.494049          0.011586   \n",
       "\n",
       "   quantization_mean  quantization_stdev  \n",
       "0           0.198150            0.003963  \n",
       "1           0.199358            0.013163  \n",
       "2           0.193888            0.006995  "
      ]
     },
     "execution_count": 31,
     "metadata": {},
     "output_type": "execute_result"
    }
   ],
   "source": [
    "benchmark_df = pd.DataFrame.from_dict(benchmark)\r\n",
    "benchmark_df"
   ]
  },
  {
   "cell_type": "code",
   "execution_count": 25,
   "metadata": {},
   "outputs": [],
   "source": [
    "benchmark_df.to_excel('benchmark_iris_res.xlsx', index=False)"
   ]
  },
  {
   "cell_type": "code",
   "execution_count": 26,
   "metadata": {},
   "outputs": [],
   "source": [
    "benchmark_df.to_csv('benchmark_iris_res.csv', index=False)"
   ]
  },
  {
   "cell_type": "code",
   "execution_count": null,
   "metadata": {},
   "outputs": [],
   "source": []
  }
 ],
 "metadata": {
  "interpreter": {
   "hash": "b2d2dc41cbfaf67ac4a91a427b68830b69dde48fe3ce74dedd3ecbeef6226b1d"
  },
  "kernelspec": {
   "display_name": "Python 3",
   "language": "python",
   "name": "python3"
  },
  "language_info": {
   "codemirror_mode": {
    "name": "ipython",
    "version": 3
   },
   "file_extension": ".py",
   "mimetype": "text/x-python",
   "name": "python",
   "nbconvert_exporter": "python",
   "pygments_lexer": "ipython3",
   "version": "3.8.5"
  }
 },
 "nbformat": 4,
 "nbformat_minor": 4
}
