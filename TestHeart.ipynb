{
 "cells": [
  {
   "cell_type": "code",
   "execution_count": 1,
   "metadata": {},
   "outputs": [],
   "source": [
    "import pandas as pd\n",
    "import numpy as np\n",
    "import matplotlib.pyplot as plt\n",
    "%matplotlib inline"
   ]
  },
  {
   "cell_type": "code",
   "execution_count": 2,
   "metadata": {},
   "outputs": [],
   "source": [
    "from pso import ParticleSwarmOptimizedClustering\n",
    "from particle import quantization_error, calc_sse\n",
    "from utils import normalize\n",
    "from kmeans import KMeans\n",
    "from sklearn.metrics import silhouette_score"
   ]
  },
  {
   "cell_type": "code",
   "execution_count": 3,
   "metadata": {},
   "outputs": [
    {
     "data": {
      "text/html": [
       "<div>\n",
       "<style scoped>\n",
       "    .dataframe tbody tr th:only-of-type {\n",
       "        vertical-align: middle;\n",
       "    }\n",
       "\n",
       "    .dataframe tbody tr th {\n",
       "        vertical-align: top;\n",
       "    }\n",
       "\n",
       "    .dataframe thead th {\n",
       "        text-align: right;\n",
       "    }\n",
       "</style>\n",
       "<table border=\"1\" class=\"dataframe\">\n",
       "  <thead>\n",
       "    <tr style=\"text-align: right;\">\n",
       "      <th></th>\n",
       "      <th>0</th>\n",
       "      <th>1</th>\n",
       "      <th>2</th>\n",
       "      <th>3</th>\n",
       "      <th>4</th>\n",
       "      <th>5</th>\n",
       "      <th>6</th>\n",
       "      <th>7</th>\n",
       "      <th>8</th>\n",
       "      <th>9</th>\n",
       "      <th>10</th>\n",
       "      <th>11</th>\n",
       "      <th>12</th>\n",
       "      <th>13</th>\n",
       "    </tr>\n",
       "  </thead>\n",
       "  <tbody>\n",
       "    <tr>\n",
       "      <th>0</th>\n",
       "      <td>63.0</td>\n",
       "      <td>1.0</td>\n",
       "      <td>1.0</td>\n",
       "      <td>145.0</td>\n",
       "      <td>233.0</td>\n",
       "      <td>1.0</td>\n",
       "      <td>2.0</td>\n",
       "      <td>150.0</td>\n",
       "      <td>0.0</td>\n",
       "      <td>2.3</td>\n",
       "      <td>3.0</td>\n",
       "      <td>0.0</td>\n",
       "      <td>6.0</td>\n",
       "      <td>0</td>\n",
       "    </tr>\n",
       "    <tr>\n",
       "      <th>1</th>\n",
       "      <td>67.0</td>\n",
       "      <td>1.0</td>\n",
       "      <td>4.0</td>\n",
       "      <td>160.0</td>\n",
       "      <td>286.0</td>\n",
       "      <td>0.0</td>\n",
       "      <td>2.0</td>\n",
       "      <td>108.0</td>\n",
       "      <td>1.0</td>\n",
       "      <td>1.5</td>\n",
       "      <td>2.0</td>\n",
       "      <td>3.0</td>\n",
       "      <td>3.0</td>\n",
       "      <td>1</td>\n",
       "    </tr>\n",
       "    <tr>\n",
       "      <th>2</th>\n",
       "      <td>67.0</td>\n",
       "      <td>1.0</td>\n",
       "      <td>4.0</td>\n",
       "      <td>120.0</td>\n",
       "      <td>229.0</td>\n",
       "      <td>0.0</td>\n",
       "      <td>2.0</td>\n",
       "      <td>129.0</td>\n",
       "      <td>1.0</td>\n",
       "      <td>2.6</td>\n",
       "      <td>2.0</td>\n",
       "      <td>2.0</td>\n",
       "      <td>7.0</td>\n",
       "      <td>1</td>\n",
       "    </tr>\n",
       "    <tr>\n",
       "      <th>3</th>\n",
       "      <td>37.0</td>\n",
       "      <td>1.0</td>\n",
       "      <td>3.0</td>\n",
       "      <td>130.0</td>\n",
       "      <td>250.0</td>\n",
       "      <td>0.0</td>\n",
       "      <td>0.0</td>\n",
       "      <td>187.0</td>\n",
       "      <td>0.0</td>\n",
       "      <td>3.5</td>\n",
       "      <td>3.0</td>\n",
       "      <td>0.0</td>\n",
       "      <td>3.0</td>\n",
       "      <td>0</td>\n",
       "    </tr>\n",
       "    <tr>\n",
       "      <th>4</th>\n",
       "      <td>41.0</td>\n",
       "      <td>0.0</td>\n",
       "      <td>2.0</td>\n",
       "      <td>130.0</td>\n",
       "      <td>204.0</td>\n",
       "      <td>0.0</td>\n",
       "      <td>2.0</td>\n",
       "      <td>172.0</td>\n",
       "      <td>0.0</td>\n",
       "      <td>1.4</td>\n",
       "      <td>1.0</td>\n",
       "      <td>0.0</td>\n",
       "      <td>3.0</td>\n",
       "      <td>0</td>\n",
       "    </tr>\n",
       "  </tbody>\n",
       "</table>\n",
       "</div>"
      ],
      "text/plain": [
       "     0    1    2      3      4    5    6      7    8    9    10   11   12  13\n",
       "0  63.0  1.0  1.0  145.0  233.0  1.0  2.0  150.0  0.0  2.3  3.0  0.0  6.0   0\n",
       "1  67.0  1.0  4.0  160.0  286.0  0.0  2.0  108.0  1.0  1.5  2.0  3.0  3.0   1\n",
       "2  67.0  1.0  4.0  120.0  229.0  0.0  2.0  129.0  1.0  2.6  2.0  2.0  7.0   1\n",
       "3  37.0  1.0  3.0  130.0  250.0  0.0  0.0  187.0  0.0  3.5  3.0  0.0  3.0   0\n",
       "4  41.0  0.0  2.0  130.0  204.0  0.0  2.0  172.0  0.0  1.4  1.0  0.0  3.0   0"
      ]
     },
     "execution_count": 3,
     "metadata": {},
     "output_type": "execute_result"
    }
   ],
   "source": [
    "data = pd.read_csv('./data/heart_processed.txt', sep=' ', header=None)\r\n",
    "data.head()"
   ]
  },
  {
   "cell_type": "code",
   "execution_count": 4,
   "metadata": {},
   "outputs": [
    {
     "data": {
      "text/plain": [
       "array([[0.70833333, 1.        , 0.        , ..., 1.        , 0.        ,\n",
       "        0.85714286],\n",
       "       [0.79166667, 1.        , 1.        , ..., 0.5       , 1.        ,\n",
       "        0.42857143],\n",
       "       [0.79166667, 1.        , 1.        , ..., 0.5       , 0.66666667,\n",
       "        1.        ],\n",
       "       ...,\n",
       "       [0.58333333, 1.        , 1.        , ..., 0.5       , 0.33333333,\n",
       "        1.        ],\n",
       "       [0.58333333, 0.        , 0.33333333, ..., 0.5       , 0.33333333,\n",
       "        0.42857143],\n",
       "       [0.1875    , 1.        , 0.66666667, ..., 0.        , 0.        ,\n",
       "        0.42857143]])"
      ]
     },
     "execution_count": 4,
     "metadata": {},
     "output_type": "execute_result"
    }
   ],
   "source": [
    "x = data.drop([13], axis=1)\r\n",
    "x = x.values\r\n",
    "x = normalize(x)\r\n",
    "x"
   ]
  },
  {
   "cell_type": "markdown",
   "metadata": {},
   "source": [
    "# K-Means"
   ]
  },
  {
   "cell_type": "code",
   "execution_count": 5,
   "metadata": {},
   "outputs": [],
   "source": [
    "kmeans = KMeans(n_cluster=2, init_pp=False, seed=2018)\r\n",
    "kmeans.fit(x)"
   ]
  },
  {
   "cell_type": "code",
   "execution_count": 6,
   "metadata": {},
   "outputs": [
    {
     "name": "stdout",
     "output_type": "stream",
     "text": [
      "Silhouette: 0.1493071878000349\n",
      "SSE: 343.7566715135276\n",
      "Quantization: 1.0443919297332505\n"
     ]
    }
   ],
   "source": [
    "predicted_kmeans = kmeans.predict(x)\n",
    "print('Silhouette:', silhouette_score(x, predicted_kmeans))\n",
    "print('SSE:', kmeans.SSE)\n",
    "print('Quantization:', quantization_error(centroids=kmeans.centroid, data=x, labels=predicted_kmeans))"
   ]
  },
  {
   "cell_type": "code",
   "execution_count": 7,
   "metadata": {},
   "outputs": [
    {
     "name": "stdout",
     "output_type": "stream",
     "text": [
      "Silhouette: 0.1493071878000349\n",
      "SSE: 324.86578873437315\n",
      "Quantization: 1.0144138871665043\n"
     ]
    }
   ],
   "source": [
    "kmeans2 = KMeans(n_cluster=2, init_pp=True, seed=2018)\r\n",
    "kmeans2.fit(x)\r\n",
    "predicted_kmeans2 = kmeans2.predict(x)\r\n",
    "print('Silhouette:', silhouette_score(x, predicted_kmeans))\r\n",
    "print('SSE:', kmeans2.SSE)\r\n",
    "print('Quantization:', quantization_error(centroids=kmeans2.centroid, data=x, labels=predicted_kmeans2))"
   ]
  },
  {
   "cell_type": "markdown",
   "metadata": {},
   "source": [
    "# PSO"
   ]
  },
  {
   "cell_type": "code",
   "execution_count": 8,
   "metadata": {},
   "outputs": [],
   "source": [
    "pso = ParticleSwarmOptimizedClustering(\r\n",
    "        n_cluster=2, n_particles=10, data=x, hybrid=True, max_iter=2000, print_debug=50)"
   ]
  },
  {
   "cell_type": "code",
   "execution_count": 9,
   "metadata": {},
   "outputs": [
    {
     "name": "stdout",
     "output_type": "stream",
     "text": [
      "Initial global best score 1.0008511461371405\n",
      "Iteration 0001/2000 current gbest score 1.000851146137140546\n",
      "Iteration 0051/2000 current gbest score 0.999552410265212465\n",
      "Iteration 0101/2000 current gbest score 0.999399309290100124\n",
      "Iteration 0151/2000 current gbest score 0.999385281139022474\n",
      "Iteration 0201/2000 current gbest score 0.999384546256717687\n",
      "Iteration 0251/2000 current gbest score 0.999384515842823618\n",
      "Iteration 0301/2000 current gbest score 0.999384515203008528\n",
      "Iteration 0351/2000 current gbest score 0.999384515196801382\n",
      "Iteration 0401/2000 current gbest score 0.999384515196776402\n",
      "Iteration 0451/2000 current gbest score 0.999384515196776402\n",
      "Iteration 0501/2000 current gbest score 0.999384515196776402\n",
      "Iteration 0551/2000 current gbest score 0.999384515196776402\n",
      "Iteration 0601/2000 current gbest score 0.999384515196776402\n",
      "Iteration 0651/2000 current gbest score 0.999384515196776402\n",
      "Iteration 0701/2000 current gbest score 0.999384515196776402\n",
      "Iteration 0751/2000 current gbest score 0.999384515196776402\n",
      "Iteration 0801/2000 current gbest score 0.999384515196776402\n",
      "Iteration 0851/2000 current gbest score 0.999384515196776402\n",
      "Iteration 0901/2000 current gbest score 0.999384515196776402\n",
      "Iteration 0951/2000 current gbest score 0.999384515196776402\n",
      "Iteration 1001/2000 current gbest score 0.999384515196776402\n",
      "Iteration 1051/2000 current gbest score 0.999384515196776402\n",
      "Iteration 1101/2000 current gbest score 0.999384515196776402\n",
      "Iteration 1151/2000 current gbest score 0.999384515196776402\n",
      "Iteration 1201/2000 current gbest score 0.999384515196776402\n",
      "Iteration 1251/2000 current gbest score 0.999384515196776402\n",
      "Iteration 1301/2000 current gbest score 0.999384515196776402\n",
      "Iteration 1351/2000 current gbest score 0.999384515196776402\n",
      "Iteration 1401/2000 current gbest score 0.999384515196776402\n",
      "Iteration 1451/2000 current gbest score 0.999384515196776402\n",
      "Iteration 1501/2000 current gbest score 0.999384515196776402\n",
      "Iteration 1551/2000 current gbest score 0.999384515196776402\n",
      "Iteration 1601/2000 current gbest score 0.999384515196776402\n",
      "Iteration 1651/2000 current gbest score 0.999384515196776402\n",
      "Iteration 1701/2000 current gbest score 0.999384515196776402\n",
      "Iteration 1751/2000 current gbest score 0.999384515196776402\n",
      "Iteration 1801/2000 current gbest score 0.999384515196776402\n",
      "Iteration 1851/2000 current gbest score 0.999384515196776402\n",
      "Iteration 1901/2000 current gbest score 0.999384515196776402\n",
      "Iteration 1951/2000 current gbest score 0.999384515196776402\n",
      "Finish with gbest score 0.999384515196776402\n"
     ]
    }
   ],
   "source": [
    "hist = pso.run()"
   ]
  },
  {
   "cell_type": "code",
   "execution_count": 10,
   "metadata": {},
   "outputs": [],
   "source": [
    "pso_kmeans = KMeans(n_cluster=2, init_pp=False, seed=2018)"
   ]
  },
  {
   "cell_type": "code",
   "execution_count": 11,
   "metadata": {},
   "outputs": [
    {
     "data": {
      "text/plain": [
       "array([[5.63747577e-01, 8.12099918e-01, 8.84139454e-01, 3.74277820e-01,\n",
       "        2.82000225e-01, 1.29794694e-01, 5.57032497e-01, 5.14552088e-01,\n",
       "        1.01140286e+00, 2.37934796e-01, 4.05514992e-01, 2.85100638e-01,\n",
       "        8.14546811e-01],\n",
       "       [5.05134106e-01, 6.43551528e-01, 6.43508349e-01, 3.45984645e-01,\n",
       "        2.73972835e-01, 1.27404271e-01, 4.31465722e-01, 6.62726667e-01,\n",
       "        3.23459207e-04, 1.26805085e-01, 2.25268388e-01, 1.75526372e-01,\n",
       "        5.80365617e-01]])"
      ]
     },
     "execution_count": 11,
     "metadata": {},
     "output_type": "execute_result"
    }
   ],
   "source": [
    "pso_kmeans.centroid = pso.gbest_centroids.copy()\n",
    "pso_kmeans.centroid"
   ]
  },
  {
   "cell_type": "code",
   "execution_count": 13,
   "metadata": {},
   "outputs": [
    {
     "name": "stdout",
     "output_type": "stream",
     "text": [
      "Silhouette: 0.21415960170661166\n",
      "SSE: 322.12998244727646\n",
      "Quantization: 0.9993845151967764\n"
     ]
    }
   ],
   "source": [
    "predicted_pso = pso_kmeans.predict(x)\n",
    "print('Silhouette:', silhouette_score(x, predicted_pso))\n",
    "print('SSE:', calc_sse(centroids=pso.gbest_centroids, data=x, labels=predicted_pso))\n",
    "print('Quantization:', pso.gbest_score)"
   ]
  },
  {
   "cell_type": "markdown",
   "metadata": {},
   "source": [
    "# Repeated Test"
   ]
  },
  {
   "cell_type": "markdown",
   "metadata": {},
   "source": [
    "### K-Means++"
   ]
  },
  {
   "cell_type": "code",
   "execution_count": 14,
   "metadata": {},
   "outputs": [],
   "source": [
    "kmeanspp = {\r\n",
    "    'silhouette': [],\r\n",
    "    'sse' : [],\r\n",
    "    'quantization' : [],\r\n",
    "}\r\n",
    "for _ in range(20):\r\n",
    "    kmean_rep = KMeans(n_cluster=2, init_pp=True)\r\n",
    "    kmean_rep.fit(x)\r\n",
    "    predicted_kmean_rep = kmean_rep.predict(x)\r\n",
    "    #print(predicted_kmean_rep)\r\n",
    "    silhouette = silhouette_score(x, predicted_kmean_rep)\r\n",
    "    sse = kmean_rep.SSE\r\n",
    "    quantization = quantization_error(centroids=kmean_rep.centroid, data=x, labels=predicted_kmean_rep)\r\n",
    "    kmeanspp['silhouette'].append(silhouette)\r\n",
    "    kmeanspp['sse'].append(sse)\r\n",
    "    kmeanspp['quantization'].append(quantization)"
   ]
  },
  {
   "cell_type": "markdown",
   "metadata": {},
   "source": [
    "### PSO "
   ]
  },
  {
   "cell_type": "code",
   "execution_count": 15,
   "metadata": {},
   "outputs": [
    {
     "name": "stdout",
     "output_type": "stream",
     "text": [
      "Initial global best score 1.2299559995147136\n",
      "Iteration 0001/2000 current gbest score 1.188959983701518119\n",
      "Finish with gbest score 0.990836554326653518\n",
      "Initial global best score 1.2465638316473533\n",
      "Iteration 0001/2000 current gbest score 1.246563831647353293\n",
      "Finish with gbest score 1.054751935197026480\n",
      "Initial global best score 1.1821371165401162\n",
      "Iteration 0001/2000 current gbest score 1.112487109499767923\n",
      "Finish with gbest score 1.031184135414821679\n",
      "Initial global best score 1.2139483034636651\n",
      "Iteration 0001/2000 current gbest score 1.204041934476347109\n",
      "Finish with gbest score 1.061136602830366593\n",
      "Initial global best score 1.1661134543898521\n",
      "Iteration 0001/2000 current gbest score 1.142906684374604520\n",
      "Finish with gbest score 1.022750943100667609\n",
      "Initial global best score 1.1688576338358614\n",
      "Iteration 0001/2000 current gbest score 1.145342002799194292\n",
      "Finish with gbest score 0.906775373411234265\n",
      "Initial global best score 1.167728235019688\n",
      "Iteration 0001/2000 current gbest score 1.134370788042594613\n"
     ]
    },
    {
     "name": "stderr",
     "output_type": "stream",
     "text": [
      "d:\\study\\2SIQ3\\OPTIM\\particle-swarm-optimized-clustering\\particle.py:14: RuntimeWarning: invalid value encountered in double_scalars\n",
      "  dist /= len(idx)\n"
     ]
    },
    {
     "name": "stdout",
     "output_type": "stream",
     "text": [
      "Finish with gbest score 0.947064701450361923\n",
      "Initial global best score 1.2373688924652329\n",
      "Iteration 0001/2000 current gbest score 1.174900478287265626\n",
      "Finish with gbest score 1.036758072185795854\n",
      "Initial global best score 1.2488149981432355\n",
      "Iteration 0001/2000 current gbest score 1.204011802624101568\n",
      "Finish with gbest score 1.029531171613160101\n",
      "Initial global best score 1.1890194406022296\n",
      "Iteration 0001/2000 current gbest score 1.189019440602229638\n"
     ]
    },
    {
     "name": "stderr",
     "output_type": "stream",
     "text": [
      "d:\\study\\2SIQ3\\OPTIM\\particle-swarm-optimized-clustering\\particle.py:14: RuntimeWarning: invalid value encountered in double_scalars\n",
      "  dist /= len(idx)\n"
     ]
    },
    {
     "name": "stdout",
     "output_type": "stream",
     "text": [
      "Finish with gbest score 0.960225082482218051\n",
      "Initial global best score 1.2073906235199567\n",
      "Iteration 0001/2000 current gbest score 1.142048257213426732\n",
      "Finish with gbest score 0.954022567616964579\n",
      "Initial global best score 1.28901175916646\n",
      "Iteration 0001/2000 current gbest score 1.208543436787681280\n",
      "Finish with gbest score 1.056509937859603898\n",
      "Initial global best score 1.2511176125358587\n",
      "Iteration 0001/2000 current gbest score 1.158928548423200589\n",
      "Finish with gbest score 1.041883702708267911\n",
      "Initial global best score 1.2252588861166478\n",
      "Iteration 0001/2000 current gbest score 1.201904111089846294\n",
      "Finish with gbest score 1.038611777249234702\n",
      "Initial global best score 1.2206102810630448\n",
      "Iteration 0001/2000 current gbest score 1.218916672366865406\n"
     ]
    },
    {
     "name": "stderr",
     "output_type": "stream",
     "text": [
      "d:\\study\\2SIQ3\\OPTIM\\particle-swarm-optimized-clustering\\particle.py:14: RuntimeWarning: invalid value encountered in double_scalars\n",
      "  dist /= len(idx)\n"
     ]
    },
    {
     "name": "stdout",
     "output_type": "stream",
     "text": [
      "Finish with gbest score 1.059489514003370658\n",
      "Initial global best score 1.2432391932763063\n",
      "Iteration 0001/2000 current gbest score 1.209502036772479583\n"
     ]
    },
    {
     "name": "stderr",
     "output_type": "stream",
     "text": [
      "d:\\study\\2SIQ3\\OPTIM\\particle-swarm-optimized-clustering\\particle.py:14: RuntimeWarning: invalid value encountered in double_scalars\n",
      "  dist /= len(idx)\n"
     ]
    },
    {
     "name": "stdout",
     "output_type": "stream",
     "text": [
      "Finish with gbest score 1.079255862116273557\n",
      "Initial global best score 1.2357369368224087\n",
      "Iteration 0001/2000 current gbest score 1.100221076505336848\n"
     ]
    },
    {
     "name": "stderr",
     "output_type": "stream",
     "text": [
      "d:\\study\\2SIQ3\\OPTIM\\particle-swarm-optimized-clustering\\particle.py:14: RuntimeWarning: invalid value encountered in double_scalars\n",
      "  dist /= len(idx)\n"
     ]
    },
    {
     "name": "stdout",
     "output_type": "stream",
     "text": [
      "Finish with gbest score 0.849721640882342699\n",
      "Initial global best score 1.2224605349037558\n",
      "Iteration 0001/2000 current gbest score 1.222460534903755836\n",
      "Finish with gbest score 1.004598320774849896\n",
      "Initial global best score 1.20207124010029\n",
      "Iteration 0001/2000 current gbest score 1.195088775935689185\n",
      "Finish with gbest score 0.984634865226650779\n",
      "Initial global best score 1.1753217575525199\n",
      "Iteration 0001/2000 current gbest score 1.175321757552519886\n",
      "Finish with gbest score 1.017377646401218083\n",
      "Wall time: 1min 54s\n"
     ]
    }
   ],
   "source": [
    "%%time\r\n",
    "pso_plain = {\r\n",
    "    'silhouette': [],\r\n",
    "    'sse' : [],\r\n",
    "    'quantization' : [],\r\n",
    "}\r\n",
    "for _ in range(20):\r\n",
    "    pso_rep = ParticleSwarmOptimizedClustering(\r\n",
    "        n_cluster=2, n_particles=10, data=x, hybrid=False, max_iter=2000, print_debug=2000)\r\n",
    "    pso_rep.run()\r\n",
    "    pso_kmeans = KMeans(n_cluster=2, init_pp=False, seed=2018)\r\n",
    "    pso_kmeans.centroid = pso_rep.gbest_centroids.copy()\r\n",
    "    predicted_pso_rep = pso_kmeans.predict(x)\r\n",
    "    \r\n",
    "    silhouette = silhouette_score(x, predicted_pso_rep)\r\n",
    "    sse = calc_sse(centroids=pso_rep.gbest_centroids, data=x, labels=predicted_pso_rep)\r\n",
    "    quantization = pso_rep.gbest_score\r\n",
    "    pso_plain['silhouette'].append(silhouette)\r\n",
    "    pso_plain['sse'].append(sse)\r\n",
    "    pso_plain['quantization'].append(quantization)"
   ]
  },
  {
   "cell_type": "markdown",
   "metadata": {},
   "source": [
    "### PSO Hybrid"
   ]
  },
  {
   "cell_type": "code",
   "execution_count": 16,
   "metadata": {},
   "outputs": [
    {
     "name": "stdout",
     "output_type": "stream",
     "text": [
      "Initial global best score 1.0008511461371405\n",
      "Iteration 0001/2000 current gbest score 1.000851146137140546\n",
      "Finish with gbest score 0.999214620224922800\n",
      "Initial global best score 1.0008511461371405\n",
      "Iteration 0001/2000 current gbest score 1.000851146137140546\n",
      "Finish with gbest score 1.000417327817308522\n",
      "Initial global best score 1.0048541984610915\n",
      "Iteration 0001/2000 current gbest score 1.004854198461091475\n",
      "Finish with gbest score 1.002653326547340518\n",
      "Initial global best score 1.0008511461371405\n",
      "Iteration 0001/2000 current gbest score 1.000851146137140546\n",
      "Finish with gbest score 0.999401866033216457\n",
      "Initial global best score 1.0008511461371405\n",
      "Iteration 0001/2000 current gbest score 1.000851146137140546\n",
      "Finish with gbest score 0.999254609220285861\n",
      "Initial global best score 1.0008511461371405\n",
      "Iteration 0001/2000 current gbest score 1.000851146137140546\n",
      "Finish with gbest score 0.999422224253790348\n",
      "Initial global best score 1.0008511461371405\n",
      "Iteration 0001/2000 current gbest score 1.000851146137140546\n",
      "Finish with gbest score 0.999674055813462914\n",
      "Initial global best score 1.0761559424177216\n",
      "Iteration 0001/2000 current gbest score 1.076155942417721612\n",
      "Finish with gbest score 1.032027817348610821\n",
      "Initial global best score 1.0144138871665043\n",
      "Iteration 0001/2000 current gbest score 1.014413887166504269\n",
      "Finish with gbest score 1.013619917857839114\n",
      "Initial global best score 1.0008511461371405\n",
      "Iteration 0001/2000 current gbest score 1.000851146137140546\n",
      "Finish with gbest score 0.998699294906677304\n",
      "Initial global best score 1.0008511461371405\n",
      "Iteration 0001/2000 current gbest score 1.000851146137140546\n",
      "Finish with gbest score 1.000149801963427842\n",
      "Initial global best score 1.0144138871665043\n",
      "Iteration 0001/2000 current gbest score 1.014413887166504269\n",
      "Finish with gbest score 1.013549305845713677\n",
      "Initial global best score 1.0008511461371405\n",
      "Iteration 0001/2000 current gbest score 1.000851146137140546\n",
      "Finish with gbest score 0.999796078652433251\n",
      "Initial global best score 1.0048541984610915\n",
      "Iteration 0001/2000 current gbest score 1.004854198461091475\n",
      "Finish with gbest score 1.002419498597173053\n",
      "Initial global best score 1.0008511461371405\n",
      "Iteration 0001/2000 current gbest score 1.000851146137140546\n",
      "Finish with gbest score 0.998728499755789256\n",
      "Initial global best score 1.0008511461371405\n",
      "Iteration 0001/2000 current gbest score 1.000851146137140546\n",
      "Finish with gbest score 0.999317998551423115\n",
      "Initial global best score 1.0048541984610915\n",
      "Iteration 0001/2000 current gbest score 1.004854198461091475\n",
      "Finish with gbest score 1.002549925744496973\n",
      "Initial global best score 1.0008511461371405\n",
      "Iteration 0001/2000 current gbest score 1.000851146137140546\n",
      "Finish with gbest score 0.999703261335118110\n",
      "Initial global best score 1.0008511461371405\n",
      "Iteration 0001/2000 current gbest score 1.000851146137140546\n",
      "Finish with gbest score 0.999645542402823439\n",
      "Initial global best score 1.0144138871665043\n",
      "Iteration 0001/2000 current gbest score 1.014413887166504269\n",
      "Finish with gbest score 1.012021514760805152\n",
      "Wall time: 1min 50s\n"
     ]
    }
   ],
   "source": [
    "%%time\r\n",
    "pso_hybrid = {\r\n",
    "    'silhouette': [],\r\n",
    "    'sse' : [],\r\n",
    "    'quantization' : [],\r\n",
    "}\r\n",
    "for _ in range(20):\r\n",
    "    pso_rep = ParticleSwarmOptimizedClustering(\r\n",
    "        n_cluster=2, n_particles=10, data=x, hybrid=True, max_iter=2000, print_debug=2000)\r\n",
    "    pso_rep.run()\r\n",
    "    pso_kmeans = KMeans(n_cluster=2, init_pp=False, seed=2018)\r\n",
    "    pso_kmeans.centroid = pso_rep.gbest_centroids.copy()\r\n",
    "    predicted_pso_rep = pso_kmeans.predict(x)\r\n",
    "    \r\n",
    "    silhouette = silhouette_score(x, predicted_pso_rep)\r\n",
    "    sse = calc_sse(centroids=pso_rep.gbest_centroids, data=x, labels=predicted_pso_rep)\r\n",
    "    quantization = pso_rep.gbest_score\r\n",
    "    pso_hybrid['silhouette'].append(silhouette)\r\n",
    "    pso_hybrid['sse'].append(sse)\r\n",
    "    pso_hybrid['quantization'].append(quantization)"
   ]
  },
  {
   "cell_type": "markdown",
   "metadata": {},
   "source": [
    "# Comparison"
   ]
  },
  {
   "cell_type": "code",
   "execution_count": 17,
   "metadata": {},
   "outputs": [],
   "source": [
    "benchmark = {\n",
    "    'method' : ['K-Means++', 'PSO', 'PSO Hybrid'],\n",
    "    'sse_mean' : [\n",
    "        np.around(np.mean(kmeanspp['sse']), decimals=10),\n",
    "        np.around(np.mean(pso_plain['sse']), decimals=10),\n",
    "        np.around(np.mean(pso_hybrid['sse']), decimals=10),\n",
    "    ],\n",
    "    'sse_stdev' : [\n",
    "        np.around(np.std(kmeanspp['sse']), decimals=10),\n",
    "        np.around(np.std(pso_plain['sse']), decimals=10),\n",
    "        np.around(np.std(pso_hybrid['sse']), decimals=10),\n",
    "    ],\n",
    "    'silhouette_mean' : [\n",
    "        np.around(np.mean(kmeanspp['silhouette']), decimals=10),\n",
    "        np.around(np.mean(pso_plain['silhouette']), decimals=10),\n",
    "        np.around(np.mean(pso_hybrid['silhouette']), decimals=10),\n",
    "    ],\n",
    "    'silhouette_stdev' : [\n",
    "        np.around(np.std(kmeanspp['silhouette']), decimals=10),\n",
    "        np.around(np.std(pso_plain['silhouette']), decimals=10),\n",
    "        np.around(np.std(pso_hybrid['silhouette']), decimals=10),\n",
    "    ],\n",
    "    'quantization_mean' : [\n",
    "        np.around(np.mean(kmeanspp['quantization']), decimals=10),\n",
    "        np.around(np.mean(pso_plain['quantization']), decimals=10),\n",
    "        np.around(np.mean(pso_hybrid['quantization']), decimals=10),\n",
    "    ],\n",
    "    'quantization_stdev' : [\n",
    "        np.around(np.std(kmeanspp['quantization']), decimals=10),\n",
    "        np.around(np.std(pso_plain['quantization']), decimals=10),\n",
    "        np.around(np.std(pso_hybrid['quantization']), decimals=10),\n",
    "    ],\n",
    "}"
   ]
  },
  {
   "cell_type": "code",
   "execution_count": 18,
   "metadata": {},
   "outputs": [
    {
     "data": {
      "text/plain": [
       "{'method': ['K-Means++', 'PSO', 'PSO Hybrid'],\n",
       " 'sse_mean': [330.6852543714, 388.1279087207, 325.2416052599],\n",
       " 'sse_stdev': [15.4857910012, 48.2412848434, 6.3182686057],\n",
       " 'silhouette_mean': [0.1993638408, 0.1162906875, 0.206067336],\n",
       " 'silhouette_stdev': [0.0126193037, 0.0807356425, 0.0113011807],\n",
       " 'quantization_mean': [1.0238658568, 1.0063560203, 1.0036133244],\n",
       " 'quantization_stdev': [0.0330283956, 0.0567077927, 0.0080741982]}"
      ]
     },
     "execution_count": 18,
     "metadata": {},
     "output_type": "execute_result"
    }
   ],
   "source": [
    "benchmark"
   ]
  },
  {
   "cell_type": "code",
   "execution_count": 19,
   "metadata": {},
   "outputs": [
    {
     "data": {
      "text/html": [
       "<div>\n",
       "<style scoped>\n",
       "    .dataframe tbody tr th:only-of-type {\n",
       "        vertical-align: middle;\n",
       "    }\n",
       "\n",
       "    .dataframe tbody tr th {\n",
       "        vertical-align: top;\n",
       "    }\n",
       "\n",
       "    .dataframe thead th {\n",
       "        text-align: right;\n",
       "    }\n",
       "</style>\n",
       "<table border=\"1\" class=\"dataframe\">\n",
       "  <thead>\n",
       "    <tr style=\"text-align: right;\">\n",
       "      <th></th>\n",
       "      <th>method</th>\n",
       "      <th>sse_mean</th>\n",
       "      <th>sse_stdev</th>\n",
       "      <th>silhouette_mean</th>\n",
       "      <th>silhouette_stdev</th>\n",
       "      <th>quantization_mean</th>\n",
       "      <th>quantization_stdev</th>\n",
       "    </tr>\n",
       "  </thead>\n",
       "  <tbody>\n",
       "    <tr>\n",
       "      <th>0</th>\n",
       "      <td>K-Means++</td>\n",
       "      <td>330.685254</td>\n",
       "      <td>15.485791</td>\n",
       "      <td>0.199364</td>\n",
       "      <td>0.012619</td>\n",
       "      <td>1.023866</td>\n",
       "      <td>0.033028</td>\n",
       "    </tr>\n",
       "    <tr>\n",
       "      <th>1</th>\n",
       "      <td>PSO</td>\n",
       "      <td>388.127909</td>\n",
       "      <td>48.241285</td>\n",
       "      <td>0.116291</td>\n",
       "      <td>0.080736</td>\n",
       "      <td>1.006356</td>\n",
       "      <td>0.056708</td>\n",
       "    </tr>\n",
       "    <tr>\n",
       "      <th>2</th>\n",
       "      <td>PSO Hybrid</td>\n",
       "      <td>325.241605</td>\n",
       "      <td>6.318269</td>\n",
       "      <td>0.206067</td>\n",
       "      <td>0.011301</td>\n",
       "      <td>1.003613</td>\n",
       "      <td>0.008074</td>\n",
       "    </tr>\n",
       "  </tbody>\n",
       "</table>\n",
       "</div>"
      ],
      "text/plain": [
       "       method    sse_mean  sse_stdev  silhouette_mean  silhouette_stdev  \\\n",
       "0   K-Means++  330.685254  15.485791         0.199364          0.012619   \n",
       "1         PSO  388.127909  48.241285         0.116291          0.080736   \n",
       "2  PSO Hybrid  325.241605   6.318269         0.206067          0.011301   \n",
       "\n",
       "   quantization_mean  quantization_stdev  \n",
       "0           1.023866            0.033028  \n",
       "1           1.006356            0.056708  \n",
       "2           1.003613            0.008074  "
      ]
     },
     "execution_count": 19,
     "metadata": {},
     "output_type": "execute_result"
    }
   ],
   "source": [
    "benchmark_df = pd.DataFrame.from_dict(benchmark)\n",
    "benchmark_df"
   ]
  },
  {
   "cell_type": "code",
   "execution_count": 20,
   "metadata": {},
   "outputs": [],
   "source": [
    "benchmark_df.to_excel('benchmark_heart_res.xlsx', index=False)"
   ]
  },
  {
   "cell_type": "code",
   "execution_count": 21,
   "metadata": {},
   "outputs": [],
   "source": [
    "benchmark_df.to_csv('benchmark_heart_res.csv', index=False)"
   ]
  },
  {
   "cell_type": "markdown",
   "metadata": {},
   "source": [
    "# Impact of the inertia $\\omega$ on the exploration and exploitation balance."
   ]
  },
  {
   "cell_type": "code",
   "execution_count": null,
   "metadata": {},
   "outputs": [],
   "source": [
    "%%time\r\n",
    "pso_hybrid = {\r\n",
    "    'silhouette': [],\r\n",
    "    'sse' : [],\r\n",
    "    'quantization' : [],\r\n",
    "}\r\n",
    "d=0\r\n",
    "for _ in range(20):\r\n",
    "    pso_rep = ParticleSwarmOptimizedClustering(\r\n",
    "        n_cluster=2, n_particles=10,  data=x, hybrid=True, max_iter=2000, print_debug=2000)\r\n",
    "    pso_rep.run()\r\n",
    "    pso_kmeans = KMeans(n_cluster=2, init_pp=False, seed=2018)\r\n",
    "    pso_kmeans.centroid = pso_rep.gbest_centroids.copy()\r\n",
    "    predicted_pso_rep = pso_kmeans.predict(x)\r\n",
    "    \r\n",
    "    silhouette = silhouette_score(x, predicted_pso_rep)\r\n",
    "    sse = calc_sse(centroids=pso_rep.gbest_centroids, data=x, labels=predicted_pso_rep)\r\n",
    "    quantization = pso_rep.gbest_score\r\n",
    "    pso_hybrid['silhouette'].append(silhouette)\r\n",
    "    pso_hybrid['sse'].append(sse)\r\n",
    "    pso_hybrid['quantization'].append(quantization)"
   ]
  }
 ],
 "metadata": {
  "interpreter": {
   "hash": "4480e32245891b07b354378c7dbc380a1b3f17ee24171af64af582c25470e498"
  },
  "kernelspec": {
   "display_name": "Python 3.7.1 64-bit ('base': conda)",
   "name": "python3"
  },
  "language_info": {
   "codemirror_mode": {
    "name": "ipython",
    "version": 3
   },
   "file_extension": ".py",
   "mimetype": "text/x-python",
   "name": "python",
   "nbconvert_exporter": "python",
   "pygments_lexer": "ipython3",
   "version": "3.7.1"
  }
 },
 "nbformat": 4,
 "nbformat_minor": 2
}