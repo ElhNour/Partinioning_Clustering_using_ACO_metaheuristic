{
 "cells": [
  {
   "cell_type": "code",
   "execution_count": 34,
   "metadata": {},
   "outputs": [],
   "source": [
    "import pandas as pd\n",
    "import numpy as np\n",
    "import matplotlib.pyplot as plt\n",
    "%matplotlib inline"
   ]
  },
  {
   "cell_type": "code",
   "execution_count": 35,
   "metadata": {},
   "outputs": [],
   "source": [
    "from pso import ParticleSwarmOptimizedClustering\n",
    "from particle import quantization_error, calc_sse\n",
    "from utils import normalize\n",
    "from kmeans import KMeans\n",
    "import utils\n",
    "from sklearn.metrics import silhouette_score"
   ]
  },
  {
   "cell_type": "code",
   "execution_count": 36,
   "metadata": {},
   "outputs": [
    {
     "data": {
      "text/html": [
       "<div>\n",
       "<style scoped>\n",
       "    .dataframe tbody tr th:only-of-type {\n",
       "        vertical-align: middle;\n",
       "    }\n",
       "\n",
       "    .dataframe tbody tr th {\n",
       "        vertical-align: top;\n",
       "    }\n",
       "\n",
       "    .dataframe thead th {\n",
       "        text-align: right;\n",
       "    }\n",
       "</style>\n",
       "<table border=\"1\" class=\"dataframe\">\n",
       "  <thead>\n",
       "    <tr style=\"text-align: right;\">\n",
       "      <th></th>\n",
       "      <th>0</th>\n",
       "      <th>1</th>\n",
       "      <th>2</th>\n",
       "      <th>3</th>\n",
       "      <th>4</th>\n",
       "      <th>5</th>\n",
       "      <th>6</th>\n",
       "      <th>7</th>\n",
       "      <th>8</th>\n",
       "      <th>9</th>\n",
       "      <th>10</th>\n",
       "      <th>11</th>\n",
       "      <th>12</th>\n",
       "      <th>13</th>\n",
       "    </tr>\n",
       "  </thead>\n",
       "  <tbody>\n",
       "    <tr>\n",
       "      <th>0</th>\n",
       "      <td>63.0</td>\n",
       "      <td>1.0</td>\n",
       "      <td>1.0</td>\n",
       "      <td>145.0</td>\n",
       "      <td>233.0</td>\n",
       "      <td>1.0</td>\n",
       "      <td>2.0</td>\n",
       "      <td>150.0</td>\n",
       "      <td>0.0</td>\n",
       "      <td>2.3</td>\n",
       "      <td>3.0</td>\n",
       "      <td>0.0</td>\n",
       "      <td>6.0</td>\n",
       "      <td>0</td>\n",
       "    </tr>\n",
       "    <tr>\n",
       "      <th>1</th>\n",
       "      <td>67.0</td>\n",
       "      <td>1.0</td>\n",
       "      <td>4.0</td>\n",
       "      <td>160.0</td>\n",
       "      <td>286.0</td>\n",
       "      <td>0.0</td>\n",
       "      <td>2.0</td>\n",
       "      <td>108.0</td>\n",
       "      <td>1.0</td>\n",
       "      <td>1.5</td>\n",
       "      <td>2.0</td>\n",
       "      <td>3.0</td>\n",
       "      <td>3.0</td>\n",
       "      <td>1</td>\n",
       "    </tr>\n",
       "    <tr>\n",
       "      <th>2</th>\n",
       "      <td>67.0</td>\n",
       "      <td>1.0</td>\n",
       "      <td>4.0</td>\n",
       "      <td>120.0</td>\n",
       "      <td>229.0</td>\n",
       "      <td>0.0</td>\n",
       "      <td>2.0</td>\n",
       "      <td>129.0</td>\n",
       "      <td>1.0</td>\n",
       "      <td>2.6</td>\n",
       "      <td>2.0</td>\n",
       "      <td>2.0</td>\n",
       "      <td>7.0</td>\n",
       "      <td>1</td>\n",
       "    </tr>\n",
       "    <tr>\n",
       "      <th>3</th>\n",
       "      <td>37.0</td>\n",
       "      <td>1.0</td>\n",
       "      <td>3.0</td>\n",
       "      <td>130.0</td>\n",
       "      <td>250.0</td>\n",
       "      <td>0.0</td>\n",
       "      <td>0.0</td>\n",
       "      <td>187.0</td>\n",
       "      <td>0.0</td>\n",
       "      <td>3.5</td>\n",
       "      <td>3.0</td>\n",
       "      <td>0.0</td>\n",
       "      <td>3.0</td>\n",
       "      <td>0</td>\n",
       "    </tr>\n",
       "    <tr>\n",
       "      <th>4</th>\n",
       "      <td>41.0</td>\n",
       "      <td>0.0</td>\n",
       "      <td>2.0</td>\n",
       "      <td>130.0</td>\n",
       "      <td>204.0</td>\n",
       "      <td>0.0</td>\n",
       "      <td>2.0</td>\n",
       "      <td>172.0</td>\n",
       "      <td>0.0</td>\n",
       "      <td>1.4</td>\n",
       "      <td>1.0</td>\n",
       "      <td>0.0</td>\n",
       "      <td>3.0</td>\n",
       "      <td>0</td>\n",
       "    </tr>\n",
       "  </tbody>\n",
       "</table>\n",
       "</div>"
      ],
      "text/plain": [
       "     0    1    2      3      4    5    6      7    8    9    10   11   12  13\n",
       "0  63.0  1.0  1.0  145.0  233.0  1.0  2.0  150.0  0.0  2.3  3.0  0.0  6.0   0\n",
       "1  67.0  1.0  4.0  160.0  286.0  0.0  2.0  108.0  1.0  1.5  2.0  3.0  3.0   1\n",
       "2  67.0  1.0  4.0  120.0  229.0  0.0  2.0  129.0  1.0  2.6  2.0  2.0  7.0   1\n",
       "3  37.0  1.0  3.0  130.0  250.0  0.0  0.0  187.0  0.0  3.5  3.0  0.0  3.0   0\n",
       "4  41.0  0.0  2.0  130.0  204.0  0.0  2.0  172.0  0.0  1.4  1.0  0.0  3.0   0"
      ]
     },
     "execution_count": 36,
     "metadata": {},
     "output_type": "execute_result"
    }
   ],
   "source": [
    "data = pd.read_csv('./data/heart_processed.txt', sep=' ', header=None)\r\n",
    "data.head()"
   ]
  },
  {
   "cell_type": "code",
   "execution_count": 37,
   "metadata": {},
   "outputs": [
    {
     "data": {
      "text/plain": [
       "array([[0.70833333, 1.        , 0.        , ..., 0.        , 0.85714286,\n",
       "        0.        ],\n",
       "       [0.79166667, 1.        , 1.        , ..., 1.        , 0.42857143,\n",
       "        1.        ],\n",
       "       [0.79166667, 1.        , 1.        , ..., 0.66666667, 1.        ,\n",
       "        1.        ],\n",
       "       ...,\n",
       "       [0.58333333, 1.        , 1.        , ..., 0.33333333, 1.        ,\n",
       "        1.        ],\n",
       "       [0.58333333, 0.        , 0.33333333, ..., 0.33333333, 0.42857143,\n",
       "        1.        ],\n",
       "       [0.1875    , 1.        , 0.66666667, ..., 0.        , 0.42857143,\n",
       "        0.        ]])"
      ]
     },
     "execution_count": 37,
     "metadata": {},
     "output_type": "execute_result"
    }
   ],
   "source": [
    "y = np.array(data[13])\n",
    "x = data.drop([4], axis=1)\n",
    "x = x.values\n",
    "x = normalize(x)\r\n",
    "x"
   ]
  },
  {
   "cell_type": "markdown",
   "metadata": {},
   "source": [
    "# K-Means"
   ]
  },
  {
   "cell_type": "code",
   "execution_count": 38,
   "metadata": {},
   "outputs": [],
   "source": [
    "kmeans = KMeans(n_cluster=2, init_pp=False, seed=2018)\r\n",
    "kmeans.fit(x)"
   ]
  },
  {
   "cell_type": "code",
   "execution_count": 39,
   "metadata": {},
   "outputs": [
    {
     "name": "stdout",
     "output_type": "stream",
     "text": [
      "Silhouette: 0.24318239397214486\n",
      "SSE: 352.25915126981715\n",
      "Quantization: 1.057770434598518\n",
      "Err_ratio: (0.9900990099009901, (1, 0, 2))\n"
     ]
    }
   ],
   "source": [
    "predicted_kmeans = kmeans.predict(x)\n",
    "print('Silhouette:', silhouette_score(x, predicted_kmeans))\n",
    "print('SSE:', kmeans.SSE)\n",
    "print('Quantization:', quantization_error(centroids=kmeans.centroid, data=x, labels=predicted_kmeans))\n",
    "print('Err_ratio:', utils.stupid_precision_ratio(predicted_kmeans, y, 3))"
   ]
  },
  {
   "cell_type": "code",
   "execution_count": 40,
   "metadata": {},
   "outputs": [
    {
     "ename": "SyntaxError",
     "evalue": "invalid syntax (<ipython-input-40-65f86f0e4b00>, line 7)",
     "output_type": "error",
     "traceback": [
      "\u001b[1;36m  File \u001b[1;32m\"<ipython-input-40-65f86f0e4b00>\"\u001b[1;36m, line \u001b[1;32m7\u001b[0m\n\u001b[1;33m    print('Err_ratio:', utils.stupid_precision_ratio(predicted_kmeans2, y, 3))ns2))\u001b[0m\n\u001b[1;37m    ^\u001b[0m\n\u001b[1;31mSyntaxError\u001b[0m\u001b[1;31m:\u001b[0m invalid syntax\n"
     ]
    }
   ],
   "source": [
    "kmeans2 = KMeans(n_cluster=2, init_pp=True, seed=2018)\r\n",
    "kmeans2.fit(x)\r\n",
    "predicted_kmeans2 = kmeans2.predict(x)\r\n",
    "print('Silhouette:', silhouette_score(x, predicted_kmeans))\r\n",
    "print('SSE:', kmeans2.SSE)\r\n",
    "print('Quantization:', quantization_error(centroids=kmeans2.centroid, data=x, labels=predicted_kmea\n",
    "print('Err_ratio:', utils.stupid_precision_ratio(predicted_kmeans2, y, 3))ns2))"
   ]
  },
  {
   "cell_type": "markdown",
   "metadata": {},
   "source": [
    "# PSO"
   ]
  },
  {
   "cell_type": "code",
   "execution_count": 41,
   "metadata": {},
   "outputs": [],
   "source": [
    "pso = ParticleSwarmOptimizedClustering(\r\n",
    "        n_cluster=2, n_particles=10, data=x,dump_w=0.99,c1=2,c2=2,w=1, hybridFalsee, max_iter=2000, print_debug=50)"
   ]
  },
  {
   "cell_type": "code",
   "execution_count": 42,
   "metadata": {},
   "outputs": [
    {
     "name": "stdout",
     "output_type": "stream",
     "text": [
      "Initial global best score 1.057770434598518\n",
      "Iteration 0001/2000 current gbest score 1.057770434598517939\n",
      "Iteration 0051/2000 current gbest score 1.057770434598517939\n"
     ]
    },
    {
     "name": "stderr",
     "output_type": "stream",
     "text": [
      "C:\\Users\\moham\\Desktop\\2CS\\Optim\\Projet\\Partitioning_Clustering_using_PSO_metaheuristic\\particle.py:14: RuntimeWarning: invalid value encountered in double_scalars\n",
      "  dist /= len(idx)\n"
     ]
    },
    {
     "name": "stdout",
     "output_type": "stream",
     "text": [
      "Iteration 0101/2000 current gbest score 1.057770434598517939\n",
      "Iteration 0151/2000 current gbest score 1.057770434598517939\n",
      "Iteration 0201/2000 current gbest score 1.057770434598517939\n",
      "Iteration 0251/2000 current gbest score 1.057770434598517939\n",
      "Iteration 0301/2000 current gbest score 1.057770434598517939\n",
      "Iteration 0351/2000 current gbest score 1.057770434598517939\n",
      "Iteration 0401/2000 current gbest score 1.057770434598517939\n",
      "Iteration 0451/2000 current gbest score 1.057770434598517939\n",
      "Iteration 0501/2000 current gbest score 1.057770434598517939\n",
      "Iteration 0551/2000 current gbest score 1.057770434598517939\n",
      "Iteration 0601/2000 current gbest score 1.057770434598517939\n",
      "Iteration 0651/2000 current gbest score 1.057770434598517939\n",
      "Iteration 0701/2000 current gbest score 1.057770434598517939\n",
      "Iteration 0751/2000 current gbest score 1.057770434598517939\n",
      "Iteration 0801/2000 current gbest score 1.057770434598517939\n",
      "Iteration 0851/2000 current gbest score 1.057770434598517939\n",
      "Iteration 0901/2000 current gbest score 1.057770434598517939\n",
      "Iteration 0951/2000 current gbest score 1.057770434598517939\n",
      "Iteration 1001/2000 current gbest score 1.057770434598517939\n",
      "Iteration 1051/2000 current gbest score 1.057770434598517939\n",
      "Iteration 1101/2000 current gbest score 1.057770434598517939\n",
      "Iteration 1151/2000 current gbest score 1.057770434598517939\n",
      "Iteration 1201/2000 current gbest score 1.057770434598517939\n",
      "Iteration 1251/2000 current gbest score 1.057770434598517939\n",
      "Iteration 1301/2000 current gbest score 1.057770434598517939\n",
      "Iteration 1351/2000 current gbest score 1.057770434598517939\n",
      "Iteration 1401/2000 current gbest score 1.057770434598517939\n",
      "Iteration 1451/2000 current gbest score 1.057770434598517939\n",
      "Iteration 1501/2000 current gbest score 1.057770434598517939\n",
      "Iteration 1551/2000 current gbest score 1.057770434598517939\n",
      "Iteration 1601/2000 current gbest score 1.057770434598517939\n",
      "Iteration 1651/2000 current gbest score 1.057770434598517939\n",
      "Iteration 1701/2000 current gbest score 1.057770434598517939\n",
      "Iteration 1751/2000 current gbest score 1.057770434598517939\n",
      "Iteration 1801/2000 current gbest score 1.057770434598517939\n",
      "Iteration 1851/2000 current gbest score 1.057770434598517939\n",
      "Iteration 1901/2000 current gbest score 1.057770434598517939\n",
      "Iteration 1951/2000 current gbest score 1.057770434598517939\n",
      "Finish with gbest score 1.057770434598517939\n"
     ]
    }
   ],
   "source": [
    "hist = pso.run()"
   ]
  },
  {
   "cell_type": "code",
   "execution_count": 43,
   "metadata": {},
   "outputs": [],
   "source": [
    "pso_kmeans = KMeans(n_cluster=2, init_pp=False, seed=2018)"
   ]
  },
  {
   "cell_type": "code",
   "execution_count": 44,
   "metadata": {},
   "outputs": [
    {
     "data": {
      "text/plain": [
       "array([[0.48913043, 0.55279503, 0.59213251, 0.33329427, 0.14285714,\n",
       "        0.41304348, 0.67199279, 0.1242236 , 0.09557203, 0.20186335,\n",
       "        0.08902692, 0.53061224, 0.        ],\n",
       "       [0.57629108, 0.82394366, 0.86384977, 0.38081318, 0.15492958,\n",
       "        0.58802817, 0.51849264, 0.55633803, 0.24943208, 0.41197183,\n",
       "        0.37089202, 0.83199195, 0.97887324]])"
      ]
     },
     "execution_count": 44,
     "metadata": {},
     "output_type": "execute_result"
    }
   ],
   "source": [
    "pso_kmeans.centroid = pso.gbest_centroids.copy()\n",
    "pso_kmeans.centroid"
   ]
  },
  {
   "cell_type": "code",
   "execution_count": 45,
   "metadata": {},
   "outputs": [
    {
     "name": "stdout",
     "output_type": "stream",
     "text": [
      "Silhouette: 0.24318239397214486\n",
      "SSE: 352.25915126981715\n",
      "Quantization: 1.057770434598518\n",
      "Err_ratio: (0.9900990099009901, (0, 1, 2))\n"
     ]
    }
   ],
   "source": [
    "predicted_pso = pso_kmeans.predict(x)\n",
    "print('Silhouette:', silhouette_score(x, predicted_pso))\n",
    "print('SSE:', calc_sse(centroids=pso.gbest_centroids, data=x, labels=predicted_pso))\n",
    "print('Quantization:', quantization_error(pso.gbest_centroids, predicted_pso, x))\n",
    "print('Err_ratio:', utils.stupid_precision_ratio(predicted_pso, y, 3))"
   ]
  },
  {
   "cell_type": "code",
   "execution_count": 31,
   "metadata": {},
   "outputs": [],
   "source": [
    "from sklearn.decomposition import PCA\n",
    "pca = PCA(x.shape[1])\n",
    "X_iris_r = pca.fit(x).transform(x)"
   ]
  },
  {
   "cell_type": "code",
   "execution_count": 32,
   "metadata": {},
   "outputs": [
    {
     "data": {
      "image/png": "[encoded data removed]",
      "text/plain": [
       "<Figure size 432x288 with 1 Axes>"
      ]
     },
     "metadata": {
      "needs_background": "light"
     },
     "output_type": "display_data"
    }
   ],
   "source": [
    "plt.scatter(X_iris_r[:, 0], X_iris_r[:, 1], c=predicted_pso, s=50, cmap='viridis')\n",
    "\n",
    "centers = pca.transform(pso.gbest_centroids)    \n",
    "\n",
    "plt.scatter(centers[:, 0], centers[:, 1], c='black', s=200, alpha=0.5);"
   ]
  },
  {
   "cell_type": "code",
   "execution_count": 33,
   "metadata": {},
   "outputs": [
    {
     "data": {
      "text/plain": [
       "<matplotlib.collections.PathCollection at 0x1d9b001f070>"
      ]
     },
     "execution_count": 33,
     "metadata": {},
     "output_type": "execute_result"
    },
    {
     "data": {
      "image/png": "[encoded data removed]",
      "text/plain": [
       "<Figure size 432x288 with 1 Axes>"
      ]
     },
     "metadata": {
      "needs_background": "light"
     },
     "output_type": "display_data"
    }
   ],
   "source": [
    "plt.scatter(X_iris_r[:, 0], X_iris_r[:, 1], c=y, s=50, cmap='viridis')"
   ]
  },
  {
   "cell_type": "markdown",
   "metadata": {},
   "source": [
    "# Repeated Test"
   ]
  },
  {
   "cell_type": "markdown",
   "metadata": {},
   "source": [
    "### K-Means++"
   ]
  },
  {
   "cell_type": "code",
   "execution_count": 21,
   "metadata": {},
   "outputs": [],
   "source": [
    "kmeanspp = {\r\n",
    "    'silhouette': [],\r\n",
    "    'sse' : [],\r\n",
    "    'quantization' : [],\r\n",
    "}\r\n",
    "for _ in range(20):\r\n",
    "    kmean_rep = KMeans(n_cluster=2, init_pp=True)\r\n",
    "    kmean_rep.fit(x)\r\n",
    "    predicted_kmean_rep = kmean_rep.predict(x)\r\n",
    "    #print(predicted_kmean_rep)\r\n",
    "    silhouette = silhouette_score(x, predicted_kmean_rep)\r\n",
    "    sse = kmean_rep.SSE\r\n",
    "    quantization = quantization_error(centroids=kmean_rep.centroid, data=x, labels=predicted_kmean_rep)\r\n",
    "    kmeanspp['silhouette'].append(silhouette)\r\n",
    "    kmeanspp['sse'].append(sse)\r\n",
    "    kmeanspp['quantization'].append(quantization)"
   ]
  },
  {
   "cell_type": "markdown",
   "metadata": {},
   "source": [
    "### PSO "
   ]
  },
  {
   "cell_type": "code",
   "execution_count": 22,
   "metadata": {},
   "outputs": [
    {
     "name": "stdout",
     "output_type": "stream",
     "text": [
      "Initial global best score 1.282938464349118\n",
      "Iteration 0001/2000 current gbest score 1.158293117580312170\n"
     ]
    },
    {
     "name": "stderr",
     "output_type": "stream",
     "text": [
      "d:\\study\\2SIQ3\\OPTIM\\Partitioning_Clustering_using_ACO_metaheuristic\\particle.py:14: RuntimeWarning: invalid value encountered in double_scalars\n",
      "  dist /= len(idx)\n"
     ]
    },
    {
     "name": "stdout",
     "output_type": "stream",
     "text": [
      "Finish with gbest score 1.024463416277286765\n",
      "Initial global best score 1.246677277835623\n",
      "Iteration 0001/2000 current gbest score 1.156871655412359701\n"
     ]
    },
    {
     "name": "stderr",
     "output_type": "stream",
     "text": [
      "d:\\study\\2SIQ3\\OPTIM\\Partitioning_Clustering_using_ACO_metaheuristic\\particle.py:14: RuntimeWarning: invalid value encountered in double_scalars\n",
      "  dist /= len(idx)\n"
     ]
    },
    {
     "name": "stdout",
     "output_type": "stream",
     "text": [
      "Finish with gbest score 1.057335058371712044\n",
      "Initial global best score 1.2424063015333595\n",
      "Iteration 0001/2000 current gbest score 1.180450443304050356\n"
     ]
    },
    {
     "name": "stderr",
     "output_type": "stream",
     "text": [
      "d:\\study\\2SIQ3\\OPTIM\\Partitioning_Clustering_using_ACO_metaheuristic\\particle.py:14: RuntimeWarning: invalid value encountered in double_scalars\n",
      "  dist /= len(idx)\n"
     ]
    },
    {
     "name": "stdout",
     "output_type": "stream",
     "text": [
      "Finish with gbest score 1.027474124829834468\n",
      "Initial global best score 1.1865984272847632\n",
      "Iteration 0001/2000 current gbest score 1.152450567187963237\n"
     ]
    },
    {
     "name": "stderr",
     "output_type": "stream",
     "text": [
      "d:\\study\\2SIQ3\\OPTIM\\Partitioning_Clustering_using_ACO_metaheuristic\\particle.py:14: RuntimeWarning: invalid value encountered in double_scalars\n",
      "  dist /= len(idx)\n"
     ]
    },
    {
     "name": "stdout",
     "output_type": "stream",
     "text": [
      "Finish with gbest score 0.860287734629944456\n",
      "Initial global best score 1.1788952954318552\n",
      "Iteration 0001/2000 current gbest score 1.084769468004409321\n"
     ]
    },
    {
     "name": "stderr",
     "output_type": "stream",
     "text": [
      "d:\\study\\2SIQ3\\OPTIM\\Partitioning_Clustering_using_ACO_metaheuristic\\particle.py:14: RuntimeWarning: invalid value encountered in double_scalars\n",
      "  dist /= len(idx)\n"
     ]
    },
    {
     "name": "stdout",
     "output_type": "stream",
     "text": [
      "Finish with gbest score 1.030595292552783260\n",
      "Initial global best score 1.213227676286935\n",
      "Iteration 0001/2000 current gbest score 1.171296765510873694\n"
     ]
    },
    {
     "name": "stderr",
     "output_type": "stream",
     "text": [
      "d:\\study\\2SIQ3\\OPTIM\\Partitioning_Clustering_using_ACO_metaheuristic\\particle.py:14: RuntimeWarning: invalid value encountered in double_scalars\n",
      "  dist /= len(idx)\n"
     ]
    },
    {
     "name": "stdout",
     "output_type": "stream",
     "text": [
      "Finish with gbest score 0.961972912935669333\n",
      "Initial global best score 1.227411434848642\n",
      "Iteration 0001/2000 current gbest score 1.169876595921905738\n"
     ]
    },
    {
     "name": "stderr",
     "output_type": "stream",
     "text": [
      "d:\\study\\2SIQ3\\OPTIM\\Partitioning_Clustering_using_ACO_metaheuristic\\particle.py:14: RuntimeWarning: invalid value encountered in double_scalars\n",
      "  dist /= len(idx)\n"
     ]
    },
    {
     "name": "stdout",
     "output_type": "stream",
     "text": [
      "Finish with gbest score 0.998335632458496769\n",
      "Initial global best score 1.2533790372351061\n",
      "Iteration 0001/2000 current gbest score 1.140851156066868155\n"
     ]
    },
    {
     "name": "stderr",
     "output_type": "stream",
     "text": [
      "d:\\study\\2SIQ3\\OPTIM\\Partitioning_Clustering_using_ACO_metaheuristic\\particle.py:14: RuntimeWarning: invalid value encountered in double_scalars\n",
      "  dist /= len(idx)\n"
     ]
    },
    {
     "name": "stdout",
     "output_type": "stream",
     "text": [
      "Finish with gbest score 1.027363968998327604\n",
      "Initial global best score 1.216048883978365\n",
      "Iteration 0001/2000 current gbest score 1.041631294790285489\n"
     ]
    },
    {
     "name": "stderr",
     "output_type": "stream",
     "text": [
      "d:\\study\\2SIQ3\\OPTIM\\Partitioning_Clustering_using_ACO_metaheuristic\\particle.py:14: RuntimeWarning: invalid value encountered in double_scalars\n",
      "  dist /= len(idx)\n"
     ]
    },
    {
     "name": "stdout",
     "output_type": "stream",
     "text": [
      "Finish with gbest score 0.968903472512982811\n",
      "Initial global best score 1.1973671238819712\n",
      "Iteration 0001/2000 current gbest score 1.138023147623575593\n"
     ]
    },
    {
     "name": "stderr",
     "output_type": "stream",
     "text": [
      "d:\\study\\2SIQ3\\OPTIM\\Partitioning_Clustering_using_ACO_metaheuristic\\particle.py:14: RuntimeWarning: invalid value encountered in double_scalars\n",
      "  dist /= len(idx)\n"
     ]
    },
    {
     "name": "stdout",
     "output_type": "stream",
     "text": [
      "Finish with gbest score 1.053175266711278590\n",
      "Initial global best score 1.2338106276124527\n",
      "Iteration 0001/2000 current gbest score 1.107524349299166433\n"
     ]
    },
    {
     "name": "stderr",
     "output_type": "stream",
     "text": [
      "d:\\study\\2SIQ3\\OPTIM\\Partitioning_Clustering_using_ACO_metaheuristic\\particle.py:14: RuntimeWarning: invalid value encountered in double_scalars\n",
      "  dist /= len(idx)\n"
     ]
    },
    {
     "name": "stdout",
     "output_type": "stream",
     "text": [
      "Finish with gbest score 1.064881198521694383\n",
      "Initial global best score 1.2278875003565677\n",
      "Iteration 0001/2000 current gbest score 1.179644998202939332\n"
     ]
    },
    {
     "name": "stderr",
     "output_type": "stream",
     "text": [
      "d:\\study\\2SIQ3\\OPTIM\\Partitioning_Clustering_using_ACO_metaheuristic\\particle.py:14: RuntimeWarning: invalid value encountered in double_scalars\n",
      "  dist /= len(idx)\n"
     ]
    },
    {
     "name": "stdout",
     "output_type": "stream",
     "text": [
      "Finish with gbest score 1.033909505706066767\n",
      "Initial global best score 1.2511020051188044\n",
      "Iteration 0001/2000 current gbest score 1.108382645617730589\n"
     ]
    },
    {
     "name": "stderr",
     "output_type": "stream",
     "text": [
      "d:\\study\\2SIQ3\\OPTIM\\Partitioning_Clustering_using_ACO_metaheuristic\\particle.py:14: RuntimeWarning: invalid value encountered in double_scalars\n",
      "  dist /= len(idx)\n"
     ]
    },
    {
     "name": "stdout",
     "output_type": "stream",
     "text": [
      "Finish with gbest score 1.024339078318795559\n",
      "Initial global best score 1.2002968456225616\n",
      "Iteration 0001/2000 current gbest score 1.133284427717456744\n"
     ]
    },
    {
     "name": "stderr",
     "output_type": "stream",
     "text": [
      "d:\\study\\2SIQ3\\OPTIM\\Partitioning_Clustering_using_ACO_metaheuristic\\particle.py:14: RuntimeWarning: invalid value encountered in double_scalars\n",
      "  dist /= len(idx)\n"
     ]
    },
    {
     "name": "stdout",
     "output_type": "stream",
     "text": [
      "Finish with gbest score 0.911879562519266162\n",
      "Initial global best score 1.2369270792273714\n",
      "Iteration 0001/2000 current gbest score 1.115489304973644513\n"
     ]
    },
    {
     "name": "stderr",
     "output_type": "stream",
     "text": [
      "d:\\study\\2SIQ3\\OPTIM\\Partitioning_Clustering_using_ACO_metaheuristic\\particle.py:14: RuntimeWarning: invalid value encountered in double_scalars\n",
      "  dist /= len(idx)\n"
     ]
    },
    {
     "name": "stdout",
     "output_type": "stream",
     "text": [
      "Finish with gbest score 1.018972907667382799\n",
      "Initial global best score 1.216675503938729\n",
      "Iteration 0001/2000 current gbest score 1.170179502821980133\n"
     ]
    },
    {
     "name": "stderr",
     "output_type": "stream",
     "text": [
      "d:\\study\\2SIQ3\\OPTIM\\Partitioning_Clustering_using_ACO_metaheuristic\\particle.py:14: RuntimeWarning: invalid value encountered in double_scalars\n",
      "  dist /= len(idx)\n"
     ]
    },
    {
     "name": "stdout",
     "output_type": "stream",
     "text": [
      "Finish with gbest score 1.058987779696453746\n",
      "Initial global best score 1.3314068826504133\n",
      "Iteration 0001/2000 current gbest score 1.151510803127003602\n"
     ]
    },
    {
     "name": "stderr",
     "output_type": "stream",
     "text": [
      "d:\\study\\2SIQ3\\OPTIM\\Partitioning_Clustering_using_ACO_metaheuristic\\particle.py:14: RuntimeWarning: invalid value encountered in double_scalars\n",
      "  dist /= len(idx)\n"
     ]
    },
    {
     "name": "stdout",
     "output_type": "stream",
     "text": [
      "Finish with gbest score 1.062631374895289582\n",
      "Initial global best score 1.2390012874912997\n",
      "Iteration 0001/2000 current gbest score 1.192955045222470201\n"
     ]
    },
    {
     "name": "stderr",
     "output_type": "stream",
     "text": [
      "d:\\study\\2SIQ3\\OPTIM\\Partitioning_Clustering_using_ACO_metaheuristic\\particle.py:14: RuntimeWarning: invalid value encountered in double_scalars\n",
      "  dist /= len(idx)\n"
     ]
    },
    {
     "name": "stdout",
     "output_type": "stream",
     "text": [
      "Finish with gbest score 1.045226603103827756\n",
      "Initial global best score 1.272941285858539\n",
      "Iteration 0001/2000 current gbest score 1.123353783705678399\n"
     ]
    },
    {
     "name": "stderr",
     "output_type": "stream",
     "text": [
      "d:\\study\\2SIQ3\\OPTIM\\Partitioning_Clustering_using_ACO_metaheuristic\\particle.py:14: RuntimeWarning: invalid value encountered in double_scalars\n",
      "  dist /= len(idx)\n"
     ]
    },
    {
     "name": "stdout",
     "output_type": "stream",
     "text": [
      "Finish with gbest score 1.009977410675027221\n",
      "Initial global best score 1.2186982933202226\n",
      "Iteration 0001/2000 current gbest score 1.218698293320222614\n"
     ]
    },
    {
     "name": "stderr",
     "output_type": "stream",
     "text": [
      "d:\\study\\2SIQ3\\OPTIM\\Partitioning_Clustering_using_ACO_metaheuristic\\particle.py:14: RuntimeWarning: invalid value encountered in double_scalars\n",
      "  dist /= len(idx)\n"
     ]
    },
    {
     "name": "stdout",
     "output_type": "stream",
     "text": [
      "Finish with gbest score 1.007190706267411473\n",
      "Wall time: 4min 10s\n"
     ]
    }
   ],
   "source": [
    "%%time\r\n",
    "pso_plain = {\r\n",
    "    'silhouette': [],\r\n",
    "    'sse' : [],\r\n",
    "    'quantization' : [],\r\n",
    "}\r\n",
    "for _ in range(20):\r\n",
    "    pso_rep = ParticleSwarmOptimizedClustering(\r\n",
    "        n_cluster=2, n_particles=10, data=x,dump_w=0.99,c1=2,c2=2,w=1, hybrid=False, max_iter=2000, print_debug=2000)\r\n",
    "    pso_rep.run()\r\n",
    "    pso_kmeans = KMeans(n_cluster=2, init_pp=False, seed=2018)\r\n",
    "    pso_kmeans.centroid = pso_rep.gbest_centroids.copy()\r\n",
    "    predicted_pso_rep = pso_kmeans.predict(x)\r\n",
    "    \r\n",
    "    silhouette = silhouette_score(x, predicted_pso_rep)\r\n",
    "    sse = calc_sse(centroids=pso_rep.gbest_centroids, data=x, labels=predicted_pso_rep)\r\n",
    "    quantization = pso_rep.gbest_score\r\n",
    "    pso_plain['silhouette'].append(silhouette)\r\n",
    "    pso_plain['sse'].append(sse)\r\n",
    "    pso_plain['quantization'].append(quantization)"
   ]
  },
  {
   "cell_type": "markdown",
   "metadata": {},
   "source": [
    "### PSO Hybrid"
   ]
  },
  {
   "cell_type": "code",
   "execution_count": 23,
   "metadata": {},
   "outputs": [
    {
     "name": "stdout",
     "output_type": "stream",
     "text": [
      "Initial global best score 1.0008511461371405\n",
      "Iteration 0001/2000 current gbest score 1.000851146137140546\n"
     ]
    },
    {
     "name": "stderr",
     "output_type": "stream",
     "text": [
      "d:\\study\\2SIQ3\\OPTIM\\Partitioning_Clustering_using_ACO_metaheuristic\\particle.py:14: RuntimeWarning: invalid value encountered in double_scalars\n",
      "  dist /= len(idx)\n"
     ]
    },
    {
     "name": "stdout",
     "output_type": "stream",
     "text": [
      "Finish with gbest score 1.000067721314768621\n",
      "Initial global best score 1.0008511461371405\n",
      "Iteration 0001/2000 current gbest score 1.000851146137140546\n"
     ]
    },
    {
     "name": "stderr",
     "output_type": "stream",
     "text": [
      "d:\\study\\2SIQ3\\OPTIM\\Partitioning_Clustering_using_ACO_metaheuristic\\particle.py:14: RuntimeWarning: invalid value encountered in double_scalars\n",
      "  dist /= len(idx)\n"
     ]
    },
    {
     "name": "stdout",
     "output_type": "stream",
     "text": [
      "Finish with gbest score 0.999368979747785602\n",
      "Initial global best score 1.0008511461371405\n",
      "Iteration 0001/2000 current gbest score 1.000851146137140546\n"
     ]
    },
    {
     "name": "stderr",
     "output_type": "stream",
     "text": [
      "d:\\study\\2SIQ3\\OPTIM\\Partitioning_Clustering_using_ACO_metaheuristic\\particle.py:14: RuntimeWarning: invalid value encountered in double_scalars\n",
      "  dist /= len(idx)\n"
     ]
    },
    {
     "name": "stdout",
     "output_type": "stream",
     "text": [
      "Finish with gbest score 0.999862277411858402\n",
      "Initial global best score 1.0008511461371405\n",
      "Iteration 0001/2000 current gbest score 1.000851146137140546\n"
     ]
    },
    {
     "name": "stderr",
     "output_type": "stream",
     "text": [
      "d:\\study\\2SIQ3\\OPTIM\\Partitioning_Clustering_using_ACO_metaheuristic\\particle.py:14: RuntimeWarning: invalid value encountered in double_scalars\n",
      "  dist /= len(idx)\n"
     ]
    },
    {
     "name": "stdout",
     "output_type": "stream",
     "text": [
      "Finish with gbest score 0.999689229604529994\n",
      "Initial global best score 1.0008511461371405\n",
      "Iteration 0001/2000 current gbest score 1.000851146137140546\n"
     ]
    },
    {
     "name": "stderr",
     "output_type": "stream",
     "text": [
      "d:\\study\\2SIQ3\\OPTIM\\Partitioning_Clustering_using_ACO_metaheuristic\\particle.py:14: RuntimeWarning: invalid value encountered in double_scalars\n",
      "  dist /= len(idx)\n"
     ]
    },
    {
     "name": "stdout",
     "output_type": "stream",
     "text": [
      "Finish with gbest score 1.000215987812562046\n",
      "Initial global best score 1.0008511461371405\n",
      "Iteration 0001/2000 current gbest score 1.000798706465407140\n"
     ]
    },
    {
     "name": "stderr",
     "output_type": "stream",
     "text": [
      "d:\\study\\2SIQ3\\OPTIM\\Partitioning_Clustering_using_ACO_metaheuristic\\particle.py:14: RuntimeWarning: invalid value encountered in double_scalars\n",
      "  dist /= len(idx)\n"
     ]
    },
    {
     "name": "stdout",
     "output_type": "stream",
     "text": [
      "Finish with gbest score 0.999431801428375621\n",
      "Initial global best score 1.0008511461371405\n",
      "Iteration 0001/2000 current gbest score 1.000851146137140546\n"
     ]
    },
    {
     "name": "stderr",
     "output_type": "stream",
     "text": [
      "d:\\study\\2SIQ3\\OPTIM\\Partitioning_Clustering_using_ACO_metaheuristic\\particle.py:14: RuntimeWarning: invalid value encountered in double_scalars\n",
      "  dist /= len(idx)\n"
     ]
    },
    {
     "name": "stdout",
     "output_type": "stream",
     "text": [
      "Finish with gbest score 0.999823811657501227\n",
      "Initial global best score 1.0008511461371405\n",
      "Iteration 0001/2000 current gbest score 1.000851146137140546\n"
     ]
    },
    {
     "name": "stderr",
     "output_type": "stream",
     "text": [
      "d:\\study\\2SIQ3\\OPTIM\\Partitioning_Clustering_using_ACO_metaheuristic\\particle.py:14: RuntimeWarning: invalid value encountered in double_scalars\n",
      "  dist /= len(idx)\n"
     ]
    },
    {
     "name": "stdout",
     "output_type": "stream",
     "text": [
      "Finish with gbest score 0.999786094081292820\n",
      "Initial global best score 1.0008511461371405\n",
      "Iteration 0001/2000 current gbest score 1.000836512679727619\n"
     ]
    },
    {
     "name": "stderr",
     "output_type": "stream",
     "text": [
      "d:\\study\\2SIQ3\\OPTIM\\Partitioning_Clustering_using_ACO_metaheuristic\\particle.py:14: RuntimeWarning: invalid value encountered in double_scalars\n",
      "  dist /= len(idx)\n"
     ]
    },
    {
     "name": "stdout",
     "output_type": "stream",
     "text": [
      "Finish with gbest score 1.000031343672947770\n",
      "Initial global best score 1.0144138871665043\n",
      "Iteration 0001/2000 current gbest score 1.013946302431893987\n"
     ]
    },
    {
     "name": "stderr",
     "output_type": "stream",
     "text": [
      "d:\\study\\2SIQ3\\OPTIM\\Partitioning_Clustering_using_ACO_metaheuristic\\particle.py:14: RuntimeWarning: invalid value encountered in double_scalars\n",
      "  dist /= len(idx)\n"
     ]
    },
    {
     "name": "stdout",
     "output_type": "stream",
     "text": [
      "Finish with gbest score 1.012724567955471056\n",
      "Initial global best score 1.0048541984610915\n",
      "Iteration 0001/2000 current gbest score 1.004854198461091475\n"
     ]
    },
    {
     "name": "stderr",
     "output_type": "stream",
     "text": [
      "d:\\study\\2SIQ3\\OPTIM\\Partitioning_Clustering_using_ACO_metaheuristic\\particle.py:14: RuntimeWarning: invalid value encountered in double_scalars\n",
      "  dist /= len(idx)\n"
     ]
    },
    {
     "name": "stdout",
     "output_type": "stream",
     "text": [
      "Finish with gbest score 1.002195007468529075\n",
      "Initial global best score 1.0008511461371405\n",
      "Iteration 0001/2000 current gbest score 1.000851146137140546\n"
     ]
    },
    {
     "name": "stderr",
     "output_type": "stream",
     "text": [
      "d:\\study\\2SIQ3\\OPTIM\\Partitioning_Clustering_using_ACO_metaheuristic\\particle.py:14: RuntimeWarning: invalid value encountered in double_scalars\n",
      "  dist /= len(idx)\n"
     ]
    },
    {
     "name": "stdout",
     "output_type": "stream",
     "text": [
      "Finish with gbest score 0.999739156057872558\n",
      "Initial global best score 1.0144138871665043\n",
      "Iteration 0001/2000 current gbest score 1.014413887166504269\n"
     ]
    },
    {
     "name": "stderr",
     "output_type": "stream",
     "text": [
      "d:\\study\\2SIQ3\\OPTIM\\Partitioning_Clustering_using_ACO_metaheuristic\\particle.py:14: RuntimeWarning: invalid value encountered in double_scalars\n",
      "  dist /= len(idx)\n"
     ]
    },
    {
     "name": "stdout",
     "output_type": "stream",
     "text": [
      "Finish with gbest score 1.012466876933562743\n",
      "Initial global best score 1.0008511461371405\n",
      "Iteration 0001/2000 current gbest score 1.000851146137140546\n"
     ]
    },
    {
     "name": "stderr",
     "output_type": "stream",
     "text": [
      "d:\\study\\2SIQ3\\OPTIM\\Partitioning_Clustering_using_ACO_metaheuristic\\particle.py:14: RuntimeWarning: invalid value encountered in double_scalars\n",
      "  dist /= len(idx)\n"
     ]
    },
    {
     "name": "stdout",
     "output_type": "stream",
     "text": [
      "Finish with gbest score 0.999142690658171739\n",
      "Initial global best score 1.0144138871665043\n",
      "Iteration 0001/2000 current gbest score 1.014413887166504269\n"
     ]
    },
    {
     "name": "stderr",
     "output_type": "stream",
     "text": [
      "d:\\study\\2SIQ3\\OPTIM\\Partitioning_Clustering_using_ACO_metaheuristic\\particle.py:14: RuntimeWarning: invalid value encountered in double_scalars\n",
      "  dist /= len(idx)\n"
     ]
    },
    {
     "name": "stdout",
     "output_type": "stream",
     "text": [
      "Finish with gbest score 1.012221410291561430\n",
      "Initial global best score 1.0008511461371405\n",
      "Iteration 0001/2000 current gbest score 1.000851146137140546\n"
     ]
    },
    {
     "name": "stderr",
     "output_type": "stream",
     "text": [
      "d:\\study\\2SIQ3\\OPTIM\\Partitioning_Clustering_using_ACO_metaheuristic\\particle.py:14: RuntimeWarning: invalid value encountered in double_scalars\n",
      "  dist /= len(idx)\n"
     ]
    },
    {
     "name": "stdout",
     "output_type": "stream",
     "text": [
      "Finish with gbest score 1.000329721356580048\n",
      "Initial global best score 1.0008511461371405\n",
      "Iteration 0001/2000 current gbest score 1.000851146137140546\n"
     ]
    },
    {
     "name": "stderr",
     "output_type": "stream",
     "text": [
      "d:\\study\\2SIQ3\\OPTIM\\Partitioning_Clustering_using_ACO_metaheuristic\\particle.py:14: RuntimeWarning: invalid value encountered in double_scalars\n",
      "  dist /= len(idx)\n"
     ]
    },
    {
     "name": "stdout",
     "output_type": "stream",
     "text": [
      "Finish with gbest score 1.000314460552914397\n",
      "Initial global best score 1.0008511461371405\n",
      "Iteration 0001/2000 current gbest score 1.000851146137140546\n"
     ]
    },
    {
     "name": "stderr",
     "output_type": "stream",
     "text": [
      "d:\\study\\2SIQ3\\OPTIM\\Partitioning_Clustering_using_ACO_metaheuristic\\particle.py:14: RuntimeWarning: invalid value encountered in double_scalars\n",
      "  dist /= len(idx)\n"
     ]
    },
    {
     "name": "stdout",
     "output_type": "stream",
     "text": [
      "Finish with gbest score 0.999920168774673934\n",
      "Initial global best score 1.0048541984610915\n",
      "Iteration 0001/2000 current gbest score 1.004854198461091475\n"
     ]
    },
    {
     "name": "stderr",
     "output_type": "stream",
     "text": [
      "d:\\study\\2SIQ3\\OPTIM\\Partitioning_Clustering_using_ACO_metaheuristic\\particle.py:14: RuntimeWarning: invalid value encountered in double_scalars\n",
      "  dist /= len(idx)\n"
     ]
    },
    {
     "name": "stdout",
     "output_type": "stream",
     "text": [
      "Finish with gbest score 1.003640363530258650\n",
      "Initial global best score 1.0008511461371405\n",
      "Iteration 0001/2000 current gbest score 1.000851146137140546\n"
     ]
    },
    {
     "name": "stderr",
     "output_type": "stream",
     "text": [
      "d:\\study\\2SIQ3\\OPTIM\\Partitioning_Clustering_using_ACO_metaheuristic\\particle.py:14: RuntimeWarning: invalid value encountered in double_scalars\n",
      "  dist /= len(idx)\n"
     ]
    },
    {
     "name": "stdout",
     "output_type": "stream",
     "text": [
      "Finish with gbest score 0.999358656318809380\n",
      "Wall time: 1min 45s\n"
     ]
    }
   ],
   "source": [
    "%%time\r\n",
    "pso_hybrid = {\r\n",
    "    'silhouette': [],\r\n",
    "    'sse' : [],\r\n",
    "    'quantization' : [],\r\n",
    "}\r\n",
    "for _ in range(20):\r\n",
    "    pso_rep = ParticleSwarmOptimizedClustering(\r\n",
    "        n_cluster=2, n_particles=10, data=x,dump_w=0.99,c1=2,c2=2,w=1, hybrid=True, max_iter=2000, print_debug=2000)\r\n",
    "    pso_rep.run()\r\n",
    "    pso_kmeans = KMeans(n_cluster=2, init_pp=False, seed=2018)\r\n",
    "    pso_kmeans.centroid = pso_rep.gbest_centroids.copy()\r\n",
    "    predicted_pso_rep = pso_kmeans.predict(x)\r\n",
    "    \r\n",
    "    silhouette = silhouette_score(x, predicted_pso_rep)\r\n",
    "    sse = calc_sse(centroids=pso_rep.gbest_centroids, data=x, labels=predicted_pso_rep)\r\n",
    "    quantization = pso_rep.gbest_score\r\n",
    "    pso_hybrid['silhouette'].append(silhouette)\r\n",
    "    pso_hybrid['sse'].append(sse)\r\n",
    "    pso_hybrid['quantization'].append(quantization)"
   ]
  },
  {
   "cell_type": "markdown",
   "metadata": {},
   "source": [
    "# Comparison"
   ]
  },
  {
   "cell_type": "code",
   "execution_count": 24,
   "metadata": {},
   "outputs": [],
   "source": [
    "benchmark = {\n",
    "    'method' : ['K-Means++', 'PSO', 'PSO Hybrid'],\n",
    "    'sse_mean' : [\n",
    "        np.around(np.mean(kmeanspp['sse']), decimals=10),\n",
    "        np.around(np.mean(pso_plain['sse']), decimals=10),\n",
    "        np.around(np.mean(pso_hybrid['sse']), decimals=10),\n",
    "    ],\n",
    "    'sse_stdev' : [\n",
    "        np.around(np.std(kmeanspp['sse']), decimals=10),\n",
    "        np.around(np.std(pso_plain['sse']), decimals=10),\n",
    "        np.around(np.std(pso_hybrid['sse']), decimals=10),\n",
    "    ],\n",
    "    'silhouette_mean' : [\n",
    "        np.around(np.mean(kmeanspp['silhouette']), decimals=10),\n",
    "        np.around(np.mean(pso_plain['silhouette']), decimals=10),\n",
    "        np.around(np.mean(pso_hybrid['silhouette']), decimals=10),\n",
    "    ],\n",
    "    'silhouette_stdev' : [\n",
    "        np.around(np.std(kmeanspp['silhouette']), decimals=10),\n",
    "        np.around(np.std(pso_plain['silhouette']), decimals=10),\n",
    "        np.around(np.std(pso_hybrid['silhouette']), decimals=10),\n",
    "    ],\n",
    "    'quantization_mean' : [\n",
    "        np.around(np.mean(kmeanspp['quantization']), decimals=10),\n",
    "        np.around(np.mean(pso_plain['quantization']), decimals=10),\n",
    "        np.around(np.mean(pso_hybrid['quantization']), decimals=10),\n",
    "    ],\n",
    "    'quantization_stdev' : [\n",
    "        np.around(np.std(kmeanspp['quantization']), decimals=10),\n",
    "        np.around(np.std(pso_plain['quantization']), decimals=10),\n",
    "        np.around(np.std(pso_hybrid['quantization']), decimals=10),\n",
    "    ],\n",
    "}"
   ]
  },
  {
   "cell_type": "code",
   "execution_count": 25,
   "metadata": {},
   "outputs": [
    {
     "data": {
      "text/plain": [
       "{'method': ['K-Means++', 'PSO', 'PSO Hybrid'],\n",
       " 'sse_mean': [328.6670608596, 391.6973940503, 323.396516429],\n",
       " 'sse_stdev': [13.8896666801, 36.1625748871, 3.0138386068],\n",
       " 'silhouette_mean': [0.2009297849, 0.1343657739, 0.20871241],\n",
       " 'silhouette_stdev': [0.0124132872, 0.0516522078, 0.0094420556],\n",
       " 'quantization_mean': [1.0194684532, 1.0123951504, 1.0020165163],\n",
       " 'quantization_stdev': [0.0297859789, 0.0508387423, 0.004504653]}"
      ]
     },
     "execution_count": 25,
     "metadata": {},
     "output_type": "execute_result"
    }
   ],
   "source": [
    "benchmark"
   ]
  },
  {
   "cell_type": "code",
   "execution_count": 26,
   "metadata": {},
   "outputs": [
    {
     "data": {
      "text/html": [
       "<div>\n",
       "<style scoped>\n",
       "    .dataframe tbody tr th:only-of-type {\n",
       "        vertical-align: middle;\n",
       "    }\n",
       "\n",
       "    .dataframe tbody tr th {\n",
       "        vertical-align: top;\n",
       "    }\n",
       "\n",
       "    .dataframe thead th {\n",
       "        text-align: right;\n",
       "    }\n",
       "</style>\n",
       "<table border=\"1\" class=\"dataframe\">\n",
       "  <thead>\n",
       "    <tr style=\"text-align: right;\">\n",
       "      <th></th>\n",
       "      <th>method</th>\n",
       "      <th>sse_mean</th>\n",
       "      <th>sse_stdev</th>\n",
       "      <th>silhouette_mean</th>\n",
       "      <th>silhouette_stdev</th>\n",
       "      <th>quantization_mean</th>\n",
       "      <th>quantization_stdev</th>\n",
       "    </tr>\n",
       "  </thead>\n",
       "  <tbody>\n",
       "    <tr>\n",
       "      <th>0</th>\n",
       "      <td>K-Means++</td>\n",
       "      <td>328.667061</td>\n",
       "      <td>13.889667</td>\n",
       "      <td>0.200930</td>\n",
       "      <td>0.012413</td>\n",
       "      <td>1.019468</td>\n",
       "      <td>0.029786</td>\n",
       "    </tr>\n",
       "    <tr>\n",
       "      <th>1</th>\n",
       "      <td>PSO</td>\n",
       "      <td>391.697394</td>\n",
       "      <td>36.162575</td>\n",
       "      <td>0.134366</td>\n",
       "      <td>0.051652</td>\n",
       "      <td>1.012395</td>\n",
       "      <td>0.050839</td>\n",
       "    </tr>\n",
       "    <tr>\n",
       "      <th>2</th>\n",
       "      <td>PSO Hybrid</td>\n",
       "      <td>323.396516</td>\n",
       "      <td>3.013839</td>\n",
       "      <td>0.208712</td>\n",
       "      <td>0.009442</td>\n",
       "      <td>1.002017</td>\n",
       "      <td>0.004505</td>\n",
       "    </tr>\n",
       "  </tbody>\n",
       "</table>\n",
       "</div>"
      ],
      "text/plain": [
       "       method    sse_mean  sse_stdev  silhouette_mean  silhouette_stdev  \\\n",
       "0   K-Means++  328.667061  13.889667         0.200930          0.012413   \n",
       "1         PSO  391.697394  36.162575         0.134366          0.051652   \n",
       "2  PSO Hybrid  323.396516   3.013839         0.208712          0.009442   \n",
       "\n",
       "   quantization_mean  quantization_stdev  \n",
       "0           1.019468            0.029786  \n",
       "1           1.012395            0.050839  \n",
       "2           1.002017            0.004505  "
      ]
     },
     "execution_count": 26,
     "metadata": {},
     "output_type": "execute_result"
    }
   ],
   "source": [
    "benchmark_df = pd.DataFrame.from_dict(benchmark)\n",
    "benchmark_df"
   ]
  },
  {
   "cell_type": "code",
   "execution_count": 27,
   "metadata": {},
   "outputs": [],
   "source": [
    "benchmark_df.to_excel('benchmark_heart_res.xlsx', index=False)"
   ]
  },
  {
   "cell_type": "code",
   "execution_count": 28,
   "metadata": {},
   "outputs": [],
   "source": [
    "benchmark_df.to_csv('benchmark_heart_res.csv', index=False)"
   ]
  }
 ],
 "metadata": {
  "interpreter": {
   "hash": "4480e32245891b07b354378c7dbc380a1b3f17ee24171af64af582c25470e498"
  },
  "kernelspec": {
   "display_name": "Python 3",
   "language": "python",
   "name": "python3"
  },
  "language_info": {
   "codemirror_mode": {
    "name": "ipython",
    "version": 3
   },
   "file_extension": ".py",
   "mimetype": "text/x-python",
   "name": "python",
   "nbconvert_exporter": "python",
   "pygments_lexer": "ipython3",
   "version": "3.8.5"
  }
 },
 "nbformat": 4,
 "nbformat_minor": 4
}
